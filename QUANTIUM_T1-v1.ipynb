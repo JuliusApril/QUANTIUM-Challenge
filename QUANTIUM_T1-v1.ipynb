{
 "cells": [
  {
   "cell_type": "code",
   "execution_count": 1,
   "metadata": {},
   "outputs": [],
   "source": [
    "# Libraries\n",
    "\n",
    "# Data wrangling\n",
    "#--------------------------------------------\n",
    "\n",
    "import numpy as np\n",
    "import pandas as pd\n",
    "from pandas.api.types import CategoricalDtype\n",
    "\n",
    "import missingno as msno \n",
    "\n",
    "import xlrd  #Excel files\n",
    "\n",
    "# Text matching\n",
    "#--------------------------------------------\n",
    "from fuzzywuzzy import fuzz\n",
    "from fuzzywuzzy import process\n",
    "\n",
    "# Data visualization\n",
    "#--------------------------------------------\n",
    "\n",
    "import matplotlib\n",
    "import matplotlib.pyplot as plt\n",
    "%matplotlib inline\n",
    "\n",
    "import seaborn as sns"
   ]
  },
  {
   "cell_type": "markdown",
   "metadata": {},
   "source": [
    "# 1. Data ingestion and preprocesing.\n",
    "## 1.1. Purchase behavior dataset.\n",
    "\n",
    "The client provide us the dataset _QVI_purchase_behavior.csv_ with information related to customers, their family status and their segmentation.\n",
    "\n",
    "The main features of the dataset are:\n",
    "- LYLTY_CARD_NBR: Customer card number.\n",
    "- LIFESTAGE: Customer attribute that identifies whether a customer has a family or not and what point in life they are at e.g. are their children in pre-school/primary/secondary school. \n",
    "- LIFESTAGE: Customer attribute that identifies whether a customer has a family or not and what point in life they are at e.g. are their children in pre-school/primary/secondary school. \n"
   ]
  },
  {
   "cell_type": "code",
   "execution_count": 2,
   "metadata": {},
   "outputs": [
    {
     "data": {
      "text/html": [
       "<div>\n",
       "<style scoped>\n",
       "    .dataframe tbody tr th:only-of-type {\n",
       "        vertical-align: middle;\n",
       "    }\n",
       "\n",
       "    .dataframe tbody tr th {\n",
       "        vertical-align: top;\n",
       "    }\n",
       "\n",
       "    .dataframe thead th {\n",
       "        text-align: right;\n",
       "    }\n",
       "</style>\n",
       "<table border=\"1\" class=\"dataframe\">\n",
       "  <thead>\n",
       "    <tr style=\"text-align: right;\">\n",
       "      <th></th>\n",
       "      <th>LYLTY_CARD_NBR</th>\n",
       "      <th>LIFESTAGE</th>\n",
       "      <th>PREMIUM_CUSTOMER</th>\n",
       "    </tr>\n",
       "  </thead>\n",
       "  <tbody>\n",
       "    <tr>\n",
       "      <th>0</th>\n",
       "      <td>1000</td>\n",
       "      <td>YOUNG SINGLES/COUPLES</td>\n",
       "      <td>Premium</td>\n",
       "    </tr>\n",
       "    <tr>\n",
       "      <th>1</th>\n",
       "      <td>1002</td>\n",
       "      <td>YOUNG SINGLES/COUPLES</td>\n",
       "      <td>Mainstream</td>\n",
       "    </tr>\n",
       "    <tr>\n",
       "      <th>2</th>\n",
       "      <td>1003</td>\n",
       "      <td>YOUNG FAMILIES</td>\n",
       "      <td>Budget</td>\n",
       "    </tr>\n",
       "  </tbody>\n",
       "</table>\n",
       "</div>"
      ],
      "text/plain": [
       "   LYLTY_CARD_NBR              LIFESTAGE PREMIUM_CUSTOMER\n",
       "0            1000  YOUNG SINGLES/COUPLES          Premium\n",
       "1            1002  YOUNG SINGLES/COUPLES       Mainstream\n",
       "2            1003         YOUNG FAMILIES           Budget"
      ]
     },
     "execution_count": 2,
     "metadata": {},
     "output_type": "execute_result"
    }
   ],
   "source": [
    "# Ingesting data from CSV files (QVI_purchase_behavior)\n",
    "\n",
    "behavior=pd.read_csv('QVI_purchase_behaviour.csv', sep=',',\n",
    "                     #nrows=1000,\n",
    "                    )\n",
    "behavior.head(3)"
   ]
  },
  {
   "cell_type": "code",
   "execution_count": 3,
   "metadata": {},
   "outputs": [
    {
     "name": "stdout",
     "output_type": "stream",
     "text": [
      "<class 'pandas.core.frame.DataFrame'>\n",
      "RangeIndex: 72637 entries, 0 to 72636\n",
      "Data columns (total 3 columns):\n",
      " #   Column            Non-Null Count  Dtype \n",
      "---  ------            --------------  ----- \n",
      " 0   LYLTY_CARD_NBR    72637 non-null  int64 \n",
      " 1   LIFESTAGE         72637 non-null  object\n",
      " 2   PREMIUM_CUSTOMER  72637 non-null  object\n",
      "dtypes: int64(1), object(2)\n",
      "memory usage: 1.7+ MB\n"
     ]
    }
   ],
   "source": [
    "behavior.info()"
   ]
  },
  {
   "cell_type": "markdown",
   "metadata": {},
   "source": [
    "##### Missing values."
   ]
  },
  {
   "cell_type": "code",
   "execution_count": 4,
   "metadata": {},
   "outputs": [
    {
     "data": {
      "text/plain": [
       "False"
      ]
     },
     "execution_count": 4,
     "metadata": {},
     "output_type": "execute_result"
    }
   ],
   "source": [
    "# Any missing values?\n",
    "behavior.isnull().values.any()"
   ]
  },
  {
   "cell_type": "code",
   "execution_count": 5,
   "metadata": {},
   "outputs": [
    {
     "data": {
      "text/plain": [
       "LYLTY_CARD_NBR      0\n",
       "LIFESTAGE           0\n",
       "PREMIUM_CUSTOMER    0\n",
       "dtype: int64"
      ]
     },
     "execution_count": 5,
     "metadata": {},
     "output_type": "execute_result"
    }
   ],
   "source": [
    "# Total number of missing values\n",
    "behavior.isnull().sum()"
   ]
  },
  {
   "cell_type": "markdown",
   "metadata": {},
   "source": [
    "##### Duplicates."
   ]
  },
  {
   "cell_type": "code",
   "execution_count": 6,
   "metadata": {},
   "outputs": [
    {
     "data": {
      "text/plain": [
       "0"
      ]
     },
     "execution_count": 6,
     "metadata": {},
     "output_type": "execute_result"
    }
   ],
   "source": [
    "# Duplicated rows\n",
    "behavior.duplicated().sum()"
   ]
  },
  {
   "cell_type": "code",
   "execution_count": 7,
   "metadata": {},
   "outputs": [
    {
     "name": "stdout",
     "output_type": "stream",
     "text": [
      "There are  72637  diferent customers.\n"
     ]
    }
   ],
   "source": [
    "print('There are ',behavior.LYLTY_CARD_NBR.unique().shape[0],' diferent customers.')"
   ]
  },
  {
   "cell_type": "markdown",
   "metadata": {},
   "source": [
    "There are no missing values and no duplicated rows on customers behavior dataset."
   ]
  },
  {
   "cell_type": "markdown",
   "metadata": {},
   "source": [
    "### 1.1.1. New feature FAMILY_UNIT.\n",
    "For easier analysis we cancreate a new feature based on customer family status, SINGLES/COUPLES, FAMILIES or RETIREES."
   ]
  },
  {
   "cell_type": "code",
   "execution_count": 8,
   "metadata": {},
   "outputs": [
    {
     "data": {
      "text/plain": [
       "array(['YOUNG SINGLES/COUPLES', 'YOUNG FAMILIES', 'OLDER SINGLES/COUPLES',\n",
       "       'MIDAGE SINGLES/COUPLES', 'NEW FAMILIES', 'OLDER FAMILIES',\n",
       "       'RETIREES'], dtype=object)"
      ]
     },
     "execution_count": 8,
     "metadata": {},
     "output_type": "execute_result"
    }
   ],
   "source": [
    "behavior.LIFESTAGE.unique()"
   ]
  },
  {
   "cell_type": "code",
   "execution_count": 9,
   "metadata": {},
   "outputs": [],
   "source": [
    "# Re ordering category\n",
    "LFS_CAT = CategoricalDtype(categories=['YOUNG SINGLES/COUPLES',\n",
    "                                       'MIDAGE SINGLES/COUPLES',\n",
    "                                       'OLDER SINGLES/COUPLES',\n",
    "                                       'NEW FAMILIES',\n",
    "                                       'YOUNG FAMILIES',\n",
    "                                       'OLDER FAMILIES',\n",
    "                                       'RETIREES'], ordered=True)\n",
    "behavior.LIFESTAGE=behavior.LIFESTAGE.astype(LFS_CAT)\n"
   ]
  },
  {
   "cell_type": "code",
   "execution_count": 10,
   "metadata": {},
   "outputs": [],
   "source": [
    "# Re ordering premium category\n",
    "FAM_PREM = CategoricalDtype(categories=['Budget','Mainstream','Premium'], ordered=True)\n",
    "behavior.PREMIUM_CUSTOMER=behavior.PREMIUM_CUSTOMER.astype(FAM_PREM)\n"
   ]
  },
  {
   "cell_type": "code",
   "execution_count": 11,
   "metadata": {},
   "outputs": [],
   "source": [
    "# New feature - Family unit - SINGLES/COUPLES / FAMILIES / RETIREES\n",
    "behavior['FAMILY_UNIT']=behavior.LIFESTAGE.str.split(' ',expand=True)[1].str.strip(' ').fillna('RETIREES')\n",
    "\n",
    "\n",
    "# Re ordering new category\n",
    "FAM_CAT = CategoricalDtype(categories=['SINGLES/COUPLES',\n",
    "                                       'FAMILIES',\n",
    "                                       'RETIREES'], ordered=True)\n",
    "behavior.FAMILY_UNIT=behavior.FAMILY_UNIT.astype(FAM_CAT)\n"
   ]
  },
  {
   "cell_type": "markdown",
   "metadata": {},
   "source": [
    "### 1.1.2. Understanding customer behavior data."
   ]
  },
  {
   "cell_type": "code",
   "execution_count": 12,
   "metadata": {},
   "outputs": [
    {
     "data": {
      "text/plain": [
       "FAMILY_UNIT    \n",
       "SINGLES/COUPLES    36325\n",
       "FAMILIES           21507\n",
       "RETIREES           14805\n",
       "dtype: int64"
      ]
     },
     "execution_count": 12,
     "metadata": {},
     "output_type": "execute_result"
    }
   ],
   "source": [
    "behavior[['FAMILY_UNIT']].value_counts().sort_index()"
   ]
  },
  {
   "cell_type": "code",
   "execution_count": 13,
   "metadata": {},
   "outputs": [
    {
     "data": {
      "text/plain": [
       "LIFESTAGE             \n",
       "YOUNG SINGLES/COUPLES     14441\n",
       "MIDAGE SINGLES/COUPLES     7275\n",
       "OLDER SINGLES/COUPLES     14609\n",
       "NEW FAMILIES               2549\n",
       "YOUNG FAMILIES             9178\n",
       "OLDER FAMILIES             9780\n",
       "RETIREES                  14805\n",
       "dtype: int64"
      ]
     },
     "execution_count": 13,
     "metadata": {},
     "output_type": "execute_result"
    }
   ],
   "source": [
    "behavior[['LIFESTAGE']].value_counts(normalize=False).sort_index()"
   ]
  },
  {
   "cell_type": "code",
   "execution_count": 14,
   "metadata": {},
   "outputs": [
    {
     "data": {
      "text/plain": [
       "PREMIUM_CUSTOMER\n",
       "Budget              0.336881\n",
       "Mainstream          0.402619\n",
       "Premium             0.260501\n",
       "dtype: float64"
      ]
     },
     "execution_count": 14,
     "metadata": {},
     "output_type": "execute_result"
    }
   ],
   "source": [
    "behavior[['PREMIUM_CUSTOMER']].value_counts(normalize=True).sort_index()"
   ]
  },
  {
   "cell_type": "markdown",
   "metadata": {},
   "source": [
    "Almost 50% of our customers are into Singles/Couples familiy category followed by 30% of families and 20% of retirees.\n",
    "\n",
    "The larger groups by lifestage category are young singles, older singles and retiree standing 20% each one.\n",
    "\n",
    "Premium customers are only 26% of total.\n",
    "\n",
    "Let's see how are crosses distributions on our customers:"
   ]
  },
  {
   "cell_type": "code",
   "execution_count": 15,
   "metadata": {},
   "outputs": [
    {
     "data": {
      "text/html": [
       "<div>\n",
       "<style scoped>\n",
       "    .dataframe tbody tr th:only-of-type {\n",
       "        vertical-align: middle;\n",
       "    }\n",
       "\n",
       "    .dataframe tbody tr th {\n",
       "        vertical-align: top;\n",
       "    }\n",
       "\n",
       "    .dataframe thead th {\n",
       "        text-align: right;\n",
       "    }\n",
       "</style>\n",
       "<table border=\"1\" class=\"dataframe\">\n",
       "  <thead>\n",
       "    <tr style=\"text-align: right;\">\n",
       "      <th>PREMIUM_CUSTOMER</th>\n",
       "      <th>Budget</th>\n",
       "      <th>Mainstream</th>\n",
       "      <th>Premium</th>\n",
       "    </tr>\n",
       "    <tr>\n",
       "      <th>FAMILY_UNIT</th>\n",
       "      <th></th>\n",
       "      <th></th>\n",
       "      <th></th>\n",
       "    </tr>\n",
       "  </thead>\n",
       "  <tbody>\n",
       "    <tr>\n",
       "      <th>SINGLES/COUPLES</th>\n",
       "      <td>14.1</td>\n",
       "      <td>22.5</td>\n",
       "      <td>13.4</td>\n",
       "    </tr>\n",
       "    <tr>\n",
       "      <th>FAMILIES</th>\n",
       "      <td>13.5</td>\n",
       "      <td>8.8</td>\n",
       "      <td>7.3</td>\n",
       "    </tr>\n",
       "    <tr>\n",
       "      <th>RETIREES</th>\n",
       "      <td>6.1</td>\n",
       "      <td>8.9</td>\n",
       "      <td>5.3</td>\n",
       "    </tr>\n",
       "  </tbody>\n",
       "</table>\n",
       "</div>"
      ],
      "text/plain": [
       "PREMIUM_CUSTOMER  Budget  Mainstream  Premium\n",
       "FAMILY_UNIT                                  \n",
       "SINGLES/COUPLES     14.1        22.5     13.4\n",
       "FAMILIES            13.5         8.8      7.3\n",
       "RETIREES             6.1         8.9      5.3"
      ]
     },
     "execution_count": 15,
     "metadata": {},
     "output_type": "execute_result"
    }
   ],
   "source": [
    "# PREMIUM_CUSTOMER vs FAMILY_UNIT\n",
    "\n",
    "a=round(pd.crosstab(index=behavior['FAMILY_UNIT'],\n",
    "            columns=behavior['PREMIUM_CUSTOMER'],\n",
    "            margins=False).apply(lambda r: r/len(behavior) *100,\n",
    "                                axis=1)\n",
    "      ,1)\n",
    "a"
   ]
  },
  {
   "cell_type": "code",
   "execution_count": 16,
   "metadata": {},
   "outputs": [],
   "source": [
    "#sns.jointplot(data=behavior,\n",
    "#             x='PREMIUM_CUSTOMER',\n",
    "#             y='FAMILY_UNIT',\n",
    "#             kind='hist',\n",
    "#             cmap='Blues',\n",
    "#             color='lightsteelblue',)"
   ]
  },
  {
   "cell_type": "code",
   "execution_count": 17,
   "metadata": {},
   "outputs": [
    {
     "data": {
      "text/html": [
       "<div>\n",
       "<style scoped>\n",
       "    .dataframe tbody tr th:only-of-type {\n",
       "        vertical-align: middle;\n",
       "    }\n",
       "\n",
       "    .dataframe tbody tr th {\n",
       "        vertical-align: top;\n",
       "    }\n",
       "\n",
       "    .dataframe thead th {\n",
       "        text-align: right;\n",
       "    }\n",
       "</style>\n",
       "<table border=\"1\" class=\"dataframe\">\n",
       "  <thead>\n",
       "    <tr style=\"text-align: right;\">\n",
       "      <th>PREMIUM_CUSTOMER</th>\n",
       "      <th>Budget</th>\n",
       "      <th>Mainstream</th>\n",
       "      <th>Premium</th>\n",
       "      <th>All</th>\n",
       "    </tr>\n",
       "    <tr>\n",
       "      <th>LIFESTAGE</th>\n",
       "      <th></th>\n",
       "      <th></th>\n",
       "      <th></th>\n",
       "      <th></th>\n",
       "    </tr>\n",
       "  </thead>\n",
       "  <tbody>\n",
       "    <tr>\n",
       "      <th>YOUNG SINGLES/COUPLES</th>\n",
       "      <td>5.2</td>\n",
       "      <td>11.1</td>\n",
       "      <td>3.5</td>\n",
       "      <td>19.9</td>\n",
       "    </tr>\n",
       "    <tr>\n",
       "      <th>MIDAGE SINGLES/COUPLES</th>\n",
       "      <td>2.1</td>\n",
       "      <td>4.6</td>\n",
       "      <td>3.3</td>\n",
       "      <td>10.0</td>\n",
       "    </tr>\n",
       "    <tr>\n",
       "      <th>OLDER SINGLES/COUPLES</th>\n",
       "      <td>6.8</td>\n",
       "      <td>6.8</td>\n",
       "      <td>6.5</td>\n",
       "      <td>20.1</td>\n",
       "    </tr>\n",
       "    <tr>\n",
       "      <th>NEW FAMILIES</th>\n",
       "      <td>1.5</td>\n",
       "      <td>1.2</td>\n",
       "      <td>0.8</td>\n",
       "      <td>3.5</td>\n",
       "    </tr>\n",
       "    <tr>\n",
       "      <th>YOUNG FAMILIES</th>\n",
       "      <td>5.5</td>\n",
       "      <td>3.8</td>\n",
       "      <td>3.3</td>\n",
       "      <td>12.6</td>\n",
       "    </tr>\n",
       "    <tr>\n",
       "      <th>OLDER FAMILIES</th>\n",
       "      <td>6.4</td>\n",
       "      <td>3.9</td>\n",
       "      <td>3.1</td>\n",
       "      <td>13.5</td>\n",
       "    </tr>\n",
       "    <tr>\n",
       "      <th>RETIREES</th>\n",
       "      <td>6.1</td>\n",
       "      <td>8.9</td>\n",
       "      <td>5.3</td>\n",
       "      <td>20.4</td>\n",
       "    </tr>\n",
       "    <tr>\n",
       "      <th>All</th>\n",
       "      <td>33.7</td>\n",
       "      <td>40.3</td>\n",
       "      <td>26.1</td>\n",
       "      <td>100.0</td>\n",
       "    </tr>\n",
       "  </tbody>\n",
       "</table>\n",
       "</div>"
      ],
      "text/plain": [
       "PREMIUM_CUSTOMER        Budget  Mainstream  Premium    All\n",
       "LIFESTAGE                                                 \n",
       "YOUNG SINGLES/COUPLES      5.2        11.1      3.5   19.9\n",
       "MIDAGE SINGLES/COUPLES     2.1         4.6      3.3   10.0\n",
       "OLDER SINGLES/COUPLES      6.8         6.8      6.5   20.1\n",
       "NEW FAMILIES               1.5         1.2      0.8    3.5\n",
       "YOUNG FAMILIES             5.5         3.8      3.3   12.6\n",
       "OLDER FAMILIES             6.4         3.9      3.1   13.5\n",
       "RETIREES                   6.1         8.9      5.3   20.4\n",
       "All                       33.7        40.3     26.1  100.0"
      ]
     },
     "execution_count": 17,
     "metadata": {},
     "output_type": "execute_result"
    }
   ],
   "source": [
    "# More detailed PREMIUM_CUSTOMER vs LIFESTAGE\n",
    "\n",
    "round(pd.crosstab(index=behavior['LIFESTAGE'],\n",
    "            columns=behavior['PREMIUM_CUSTOMER'],\n",
    "            margins=True).apply(lambda r: r/len(behavior) *100,\n",
    "                                axis=1)\n",
    "      ,1)"
   ]
  },
  {
   "cell_type": "code",
   "execution_count": 18,
   "metadata": {},
   "outputs": [],
   "source": [
    "#sns.jointplot(data=behavior,\n",
    "#             x='PREMIUM_CUSTOMER',\n",
    "#             y='LIFESTAGE',\n",
    "#             kind='hist',\n",
    "#             cmap='Blues',\n",
    "#             color='lightsteelblue',)"
   ]
  },
  {
   "cell_type": "code",
   "execution_count": null,
   "metadata": {},
   "outputs": [],
   "source": []
  },
  {
   "cell_type": "markdown",
   "metadata": {},
   "source": [
    "## 1.2. Transactions Dataset\n",
    "Transactions dataset has been provided in xlsx format. On that file we will have information about all the purchases made on client's stores, dates, customers number, product charts and sales amount.\n",
    "\n",
    "Main features en that file are:\n",
    "- DATE: Provided in excel format. So we need to transform to datetime\n",
    "- STORE_NBR: Store number\n",
    "- LYLTY_CARD_NBR:\n",
    "- TXN_ID: \n",
    "- PROD_NBR: Product code, unique for each product.\n",
    "- PROD_NAME: Product name. 114 diferent products where sold.\n",
    "- PROD_QTY: Number of products purchased.\n",
    "- TOT_SALES: \n",
    "\n",
    "Next task is check the features looking for inconsistencies or outliers, clean the data and get some extra information and once data are ready join behaviors and transactions tables to take a look deeper on our clients performance. "
   ]
  },
  {
   "cell_type": "code",
   "execution_count": 19,
   "metadata": {},
   "outputs": [],
   "source": [
    "# Ingesting data from transactions (QVI_transaction_data.xlsx)\n",
    "transaction=pd.read_excel('QVI_transaction_data.xlsx',sheet_name='in',engine='xlrd')"
   ]
  },
  {
   "cell_type": "code",
   "execution_count": 20,
   "metadata": {},
   "outputs": [
    {
     "data": {
      "text/html": [
       "<div>\n",
       "<style scoped>\n",
       "    .dataframe tbody tr th:only-of-type {\n",
       "        vertical-align: middle;\n",
       "    }\n",
       "\n",
       "    .dataframe tbody tr th {\n",
       "        vertical-align: top;\n",
       "    }\n",
       "\n",
       "    .dataframe thead th {\n",
       "        text-align: right;\n",
       "    }\n",
       "</style>\n",
       "<table border=\"1\" class=\"dataframe\">\n",
       "  <thead>\n",
       "    <tr style=\"text-align: right;\">\n",
       "      <th></th>\n",
       "      <th>DATE</th>\n",
       "      <th>STORE_NBR</th>\n",
       "      <th>LYLTY_CARD_NBR</th>\n",
       "      <th>TXN_ID</th>\n",
       "      <th>PROD_NBR</th>\n",
       "      <th>PROD_NAME</th>\n",
       "      <th>PROD_QTY</th>\n",
       "      <th>TOT_SALES</th>\n",
       "    </tr>\n",
       "  </thead>\n",
       "  <tbody>\n",
       "    <tr>\n",
       "      <th>0</th>\n",
       "      <td>43390</td>\n",
       "      <td>1</td>\n",
       "      <td>1000</td>\n",
       "      <td>1</td>\n",
       "      <td>5</td>\n",
       "      <td>Natural Chip        Compny SeaSalt175g</td>\n",
       "      <td>2</td>\n",
       "      <td>6.0</td>\n",
       "    </tr>\n",
       "    <tr>\n",
       "      <th>1</th>\n",
       "      <td>43599</td>\n",
       "      <td>1</td>\n",
       "      <td>1307</td>\n",
       "      <td>348</td>\n",
       "      <td>66</td>\n",
       "      <td>CCs Nacho Cheese    175g</td>\n",
       "      <td>3</td>\n",
       "      <td>6.3</td>\n",
       "    </tr>\n",
       "    <tr>\n",
       "      <th>2</th>\n",
       "      <td>43605</td>\n",
       "      <td>1</td>\n",
       "      <td>1343</td>\n",
       "      <td>383</td>\n",
       "      <td>61</td>\n",
       "      <td>Smiths Crinkle Cut  Chips Chicken 170g</td>\n",
       "      <td>2</td>\n",
       "      <td>2.9</td>\n",
       "    </tr>\n",
       "  </tbody>\n",
       "</table>\n",
       "</div>"
      ],
      "text/plain": [
       "    DATE  STORE_NBR  LYLTY_CARD_NBR  TXN_ID  PROD_NBR  \\\n",
       "0  43390          1            1000       1         5   \n",
       "1  43599          1            1307     348        66   \n",
       "2  43605          1            1343     383        61   \n",
       "\n",
       "                                PROD_NAME  PROD_QTY  TOT_SALES  \n",
       "0  Natural Chip        Compny SeaSalt175g         2        6.0  \n",
       "1                CCs Nacho Cheese    175g         3        6.3  \n",
       "2  Smiths Crinkle Cut  Chips Chicken 170g         2        2.9  "
      ]
     },
     "execution_count": 20,
     "metadata": {},
     "output_type": "execute_result"
    }
   ],
   "source": [
    "transaction.head(3)"
   ]
  },
  {
   "cell_type": "code",
   "execution_count": 21,
   "metadata": {},
   "outputs": [
    {
     "name": "stdout",
     "output_type": "stream",
     "text": [
      "<class 'pandas.core.frame.DataFrame'>\n",
      "RangeIndex: 264836 entries, 0 to 264835\n",
      "Data columns (total 8 columns):\n",
      " #   Column          Non-Null Count   Dtype  \n",
      "---  ------          --------------   -----  \n",
      " 0   DATE            264836 non-null  int64  \n",
      " 1   STORE_NBR       264836 non-null  int64  \n",
      " 2   LYLTY_CARD_NBR  264836 non-null  int64  \n",
      " 3   TXN_ID          264836 non-null  int64  \n",
      " 4   PROD_NBR        264836 non-null  int64  \n",
      " 5   PROD_NAME       264836 non-null  object \n",
      " 6   PROD_QTY        264836 non-null  int64  \n",
      " 7   TOT_SALES       264836 non-null  float64\n",
      "dtypes: float64(1), int64(6), object(1)\n",
      "memory usage: 16.2+ MB\n"
     ]
    }
   ],
   "source": [
    "transaction.info()"
   ]
  },
  {
   "cell_type": "markdown",
   "metadata": {},
   "source": [
    "### Missing values."
   ]
  },
  {
   "cell_type": "code",
   "execution_count": 22,
   "metadata": {},
   "outputs": [
    {
     "data": {
      "text/plain": [
       "DATE              0\n",
       "STORE_NBR         0\n",
       "LYLTY_CARD_NBR    0\n",
       "TXN_ID            0\n",
       "PROD_NBR          0\n",
       "PROD_NAME         0\n",
       "PROD_QTY          0\n",
       "TOT_SALES         0\n",
       "dtype: int64"
      ]
     },
     "execution_count": 22,
     "metadata": {},
     "output_type": "execute_result"
    }
   ],
   "source": [
    "transaction.isna().sum()"
   ]
  },
  {
   "cell_type": "markdown",
   "metadata": {},
   "source": [
    "Aparently there are no missing values (Nan) on transactions dataset."
   ]
  },
  {
   "cell_type": "markdown",
   "metadata": {},
   "source": [
    "### Duplicated values."
   ]
  },
  {
   "cell_type": "code",
   "execution_count": 23,
   "metadata": {},
   "outputs": [
    {
     "data": {
      "text/plain": [
       "True"
      ]
     },
     "execution_count": 23,
     "metadata": {},
     "output_type": "execute_result"
    }
   ],
   "source": [
    "# Is any duplicated row?\n",
    "transaction.duplicated().any()"
   ]
  },
  {
   "cell_type": "code",
   "execution_count": 24,
   "metadata": {},
   "outputs": [
    {
     "data": {
      "text/plain": [
       "1"
      ]
     },
     "execution_count": 24,
     "metadata": {},
     "output_type": "execute_result"
    }
   ],
   "source": [
    "# Number of Duplicated rows\n",
    "transaction.duplicated().sum()"
   ]
  },
  {
   "cell_type": "code",
   "execution_count": 25,
   "metadata": {},
   "outputs": [
    {
     "data": {
      "text/html": [
       "<div>\n",
       "<style scoped>\n",
       "    .dataframe tbody tr th:only-of-type {\n",
       "        vertical-align: middle;\n",
       "    }\n",
       "\n",
       "    .dataframe tbody tr th {\n",
       "        vertical-align: top;\n",
       "    }\n",
       "\n",
       "    .dataframe thead th {\n",
       "        text-align: right;\n",
       "    }\n",
       "</style>\n",
       "<table border=\"1\" class=\"dataframe\">\n",
       "  <thead>\n",
       "    <tr style=\"text-align: right;\">\n",
       "      <th></th>\n",
       "      <th>DATE</th>\n",
       "      <th>STORE_NBR</th>\n",
       "      <th>LYLTY_CARD_NBR</th>\n",
       "      <th>TXN_ID</th>\n",
       "      <th>PROD_NBR</th>\n",
       "      <th>PROD_NAME</th>\n",
       "      <th>PROD_QTY</th>\n",
       "      <th>TOT_SALES</th>\n",
       "    </tr>\n",
       "  </thead>\n",
       "  <tbody>\n",
       "    <tr>\n",
       "      <th>124845</th>\n",
       "      <td>43374</td>\n",
       "      <td>107</td>\n",
       "      <td>107024</td>\n",
       "      <td>108462</td>\n",
       "      <td>45</td>\n",
       "      <td>Smiths Thinly Cut   Roast Chicken 175g</td>\n",
       "      <td>2</td>\n",
       "      <td>6.0</td>\n",
       "    </tr>\n",
       "  </tbody>\n",
       "</table>\n",
       "</div>"
      ],
      "text/plain": [
       "         DATE  STORE_NBR  LYLTY_CARD_NBR  TXN_ID  PROD_NBR  \\\n",
       "124845  43374        107          107024  108462        45   \n",
       "\n",
       "                                     PROD_NAME  PROD_QTY  TOT_SALES  \n",
       "124845  Smiths Thinly Cut   Roast Chicken 175g         2        6.0  "
      ]
     },
     "execution_count": 25,
     "metadata": {},
     "output_type": "execute_result"
    }
   ],
   "source": [
    "transaction[transaction.duplicated()]"
   ]
  },
  {
   "cell_type": "code",
   "execution_count": 26,
   "metadata": {},
   "outputs": [
    {
     "data": {
      "text/html": [
       "<div>\n",
       "<style scoped>\n",
       "    .dataframe tbody tr th:only-of-type {\n",
       "        vertical-align: middle;\n",
       "    }\n",
       "\n",
       "    .dataframe tbody tr th {\n",
       "        vertical-align: top;\n",
       "    }\n",
       "\n",
       "    .dataframe thead th {\n",
       "        text-align: right;\n",
       "    }\n",
       "</style>\n",
       "<table border=\"1\" class=\"dataframe\">\n",
       "  <thead>\n",
       "    <tr style=\"text-align: right;\">\n",
       "      <th></th>\n",
       "      <th>DATE</th>\n",
       "      <th>STORE_NBR</th>\n",
       "      <th>LYLTY_CARD_NBR</th>\n",
       "      <th>TXN_ID</th>\n",
       "      <th>PROD_NBR</th>\n",
       "      <th>PROD_NAME</th>\n",
       "      <th>PROD_QTY</th>\n",
       "      <th>TOT_SALES</th>\n",
       "    </tr>\n",
       "  </thead>\n",
       "  <tbody>\n",
       "    <tr>\n",
       "      <th>124843</th>\n",
       "      <td>43374</td>\n",
       "      <td>107</td>\n",
       "      <td>107024</td>\n",
       "      <td>108462</td>\n",
       "      <td>45</td>\n",
       "      <td>Smiths Thinly Cut   Roast Chicken 175g</td>\n",
       "      <td>2</td>\n",
       "      <td>6.0</td>\n",
       "    </tr>\n",
       "    <tr>\n",
       "      <th>124844</th>\n",
       "      <td>43374</td>\n",
       "      <td>107</td>\n",
       "      <td>107024</td>\n",
       "      <td>108462</td>\n",
       "      <td>18</td>\n",
       "      <td>Cheetos Chs &amp; Bacon Balls 190g</td>\n",
       "      <td>2</td>\n",
       "      <td>6.6</td>\n",
       "    </tr>\n",
       "    <tr>\n",
       "      <th>124845</th>\n",
       "      <td>43374</td>\n",
       "      <td>107</td>\n",
       "      <td>107024</td>\n",
       "      <td>108462</td>\n",
       "      <td>45</td>\n",
       "      <td>Smiths Thinly Cut   Roast Chicken 175g</td>\n",
       "      <td>2</td>\n",
       "      <td>6.0</td>\n",
       "    </tr>\n",
       "  </tbody>\n",
       "</table>\n",
       "</div>"
      ],
      "text/plain": [
       "         DATE  STORE_NBR  LYLTY_CARD_NBR  TXN_ID  PROD_NBR  \\\n",
       "124843  43374        107          107024  108462        45   \n",
       "124844  43374        107          107024  108462        18   \n",
       "124845  43374        107          107024  108462        45   \n",
       "\n",
       "                                     PROD_NAME  PROD_QTY  TOT_SALES  \n",
       "124843  Smiths Thinly Cut   Roast Chicken 175g         2        6.0  \n",
       "124844          Cheetos Chs & Bacon Balls 190g         2        6.6  \n",
       "124845  Smiths Thinly Cut   Roast Chicken 175g         2        6.0  "
      ]
     },
     "execution_count": 26,
     "metadata": {},
     "output_type": "execute_result"
    }
   ],
   "source": [
    "transaction[transaction.TXN_ID==108462]"
   ]
  },
  {
   "cell_type": "markdown",
   "metadata": {},
   "source": [
    "There is one transaction where I found a duplicated row, I will supose that for this transaction the costumer bought that product twice so there is no need for dropping this row.  "
   ]
  },
  {
   "cell_type": "markdown",
   "metadata": {},
   "source": [
    "### Formating Date properly. "
   ]
  },
  {
   "cell_type": "markdown",
   "metadata": {},
   "source": [
    "DATE is provided on excel format so it is needed to read and transform on python datetime format in order to process our dataframe.\n",
    "\n"
   ]
  },
  {
   "cell_type": "code",
   "execution_count": 27,
   "metadata": {},
   "outputs": [],
   "source": [
    "## XLRD methods to format excel dates into python \n",
    "#xlrd.xldate_as_tuple(transaction.DATE[0],0)\n",
    "#xlrd.xldate_as_datetime(transaction.DATE[0],0)"
   ]
  },
  {
   "cell_type": "markdown",
   "metadata": {},
   "source": [
    "### Opening days.\n",
    "But firs let's check how many days our stores were open."
   ]
  },
  {
   "cell_type": "code",
   "execution_count": 28,
   "metadata": {},
   "outputs": [
    {
     "data": {
      "text/plain": [
       "(364,)"
      ]
     },
     "execution_count": 28,
     "metadata": {},
     "output_type": "execute_result"
    }
   ],
   "source": [
    "transaction.DATE.unique().shape"
   ]
  },
  {
   "cell_type": "markdown",
   "metadata": {},
   "source": [
    "There are 364 diferent dates so there is one missing day, closing day probably. Which day do our client close?\n"
   ]
  },
  {
   "cell_type": "code",
   "execution_count": 29,
   "metadata": {},
   "outputs": [
    {
     "data": {
      "text/plain": [
       "DATE\n",
       "43460    [2]\n",
       "Name: DATE, dtype: object"
      ]
     },
     "execution_count": 29,
     "metadata": {},
     "output_type": "execute_result"
    }
   ],
   "source": [
    "# Gap on days.\n",
    "opening_days=transaction.groupby('DATE')['DATE'].unique()\n",
    "opening_days.diff()[opening_days.diff()>1]"
   ]
  },
  {
   "cell_type": "code",
   "execution_count": 30,
   "metadata": {},
   "outputs": [
    {
     "data": {
      "text/plain": [
       "datetime.datetime(2018, 12, 25, 0, 0)"
      ]
     },
     "execution_count": 30,
     "metadata": {},
     "output_type": "execute_result"
    }
   ],
   "source": [
    "# Formating\n",
    "xlrd.xldate_as_datetime(43459,0)"
   ]
  },
  {
   "cell_type": "markdown",
   "metadata": {},
   "source": [
    "The only day of the year that our stores are closed is on christmas day.\n",
    "\n",
    "For read dates properly I will use xlrd library as following."
   ]
  },
  {
   "cell_type": "code",
   "execution_count": 31,
   "metadata": {},
   "outputs": [
    {
     "data": {
      "text/plain": [
       "0"
      ]
     },
     "execution_count": 31,
     "metadata": {},
     "output_type": "execute_result"
    }
   ],
   "source": [
    "# Datemode of the excel file (https://xlrd.readthedocs.io/en/latest/api.html#module-xlrd.book)\n",
    "xlrd.open_workbook(\"QVI_transaction_data.xlsx\").datemode"
   ]
  },
  {
   "cell_type": "code",
   "execution_count": 32,
   "metadata": {},
   "outputs": [],
   "source": [
    "# Read excel date format to datetime\n",
    "transaction.DATE=pd.to_datetime(transaction.DATE.apply(lambda x: xlrd.xldate_as_datetime(x,0)))\n",
    "#pd.to_datetime(DATE, units='D',origin=01/01/1900)"
   ]
  },
  {
   "cell_type": "code",
   "execution_count": 33,
   "metadata": {},
   "outputs": [
    {
     "data": {
      "text/html": [
       "<div>\n",
       "<style scoped>\n",
       "    .dataframe tbody tr th:only-of-type {\n",
       "        vertical-align: middle;\n",
       "    }\n",
       "\n",
       "    .dataframe tbody tr th {\n",
       "        vertical-align: top;\n",
       "    }\n",
       "\n",
       "    .dataframe thead th {\n",
       "        text-align: right;\n",
       "    }\n",
       "</style>\n",
       "<table border=\"1\" class=\"dataframe\">\n",
       "  <thead>\n",
       "    <tr style=\"text-align: right;\">\n",
       "      <th></th>\n",
       "      <th>DATE</th>\n",
       "      <th>STORE_NBR</th>\n",
       "      <th>LYLTY_CARD_NBR</th>\n",
       "      <th>TXN_ID</th>\n",
       "      <th>PROD_NBR</th>\n",
       "      <th>PROD_NAME</th>\n",
       "      <th>PROD_QTY</th>\n",
       "      <th>TOT_SALES</th>\n",
       "    </tr>\n",
       "  </thead>\n",
       "  <tbody>\n",
       "    <tr>\n",
       "      <th>0</th>\n",
       "      <td>2018-10-17</td>\n",
       "      <td>1</td>\n",
       "      <td>1000</td>\n",
       "      <td>1</td>\n",
       "      <td>5</td>\n",
       "      <td>Natural Chip        Compny SeaSalt175g</td>\n",
       "      <td>2</td>\n",
       "      <td>6.0</td>\n",
       "    </tr>\n",
       "    <tr>\n",
       "      <th>1</th>\n",
       "      <td>2019-05-14</td>\n",
       "      <td>1</td>\n",
       "      <td>1307</td>\n",
       "      <td>348</td>\n",
       "      <td>66</td>\n",
       "      <td>CCs Nacho Cheese    175g</td>\n",
       "      <td>3</td>\n",
       "      <td>6.3</td>\n",
       "    </tr>\n",
       "    <tr>\n",
       "      <th>2</th>\n",
       "      <td>2019-05-20</td>\n",
       "      <td>1</td>\n",
       "      <td>1343</td>\n",
       "      <td>383</td>\n",
       "      <td>61</td>\n",
       "      <td>Smiths Crinkle Cut  Chips Chicken 170g</td>\n",
       "      <td>2</td>\n",
       "      <td>2.9</td>\n",
       "    </tr>\n",
       "    <tr>\n",
       "      <th>3</th>\n",
       "      <td>2018-08-17</td>\n",
       "      <td>2</td>\n",
       "      <td>2373</td>\n",
       "      <td>974</td>\n",
       "      <td>69</td>\n",
       "      <td>Smiths Chip Thinly  S/Cream&amp;Onion 175g</td>\n",
       "      <td>5</td>\n",
       "      <td>15.0</td>\n",
       "    </tr>\n",
       "    <tr>\n",
       "      <th>4</th>\n",
       "      <td>2018-08-18</td>\n",
       "      <td>2</td>\n",
       "      <td>2426</td>\n",
       "      <td>1038</td>\n",
       "      <td>108</td>\n",
       "      <td>Kettle Tortilla ChpsHny&amp;Jlpno Chili 150g</td>\n",
       "      <td>3</td>\n",
       "      <td>13.8</td>\n",
       "    </tr>\n",
       "  </tbody>\n",
       "</table>\n",
       "</div>"
      ],
      "text/plain": [
       "        DATE  STORE_NBR  LYLTY_CARD_NBR  TXN_ID  PROD_NBR  \\\n",
       "0 2018-10-17          1            1000       1         5   \n",
       "1 2019-05-14          1            1307     348        66   \n",
       "2 2019-05-20          1            1343     383        61   \n",
       "3 2018-08-17          2            2373     974        69   \n",
       "4 2018-08-18          2            2426    1038       108   \n",
       "\n",
       "                                  PROD_NAME  PROD_QTY  TOT_SALES  \n",
       "0    Natural Chip        Compny SeaSalt175g         2        6.0  \n",
       "1                  CCs Nacho Cheese    175g         3        6.3  \n",
       "2    Smiths Crinkle Cut  Chips Chicken 170g         2        2.9  \n",
       "3    Smiths Chip Thinly  S/Cream&Onion 175g         5       15.0  \n",
       "4  Kettle Tortilla ChpsHny&Jlpno Chili 150g         3       13.8  "
      ]
     },
     "execution_count": 33,
     "metadata": {},
     "output_type": "execute_result"
    }
   ],
   "source": [
    "transaction.head()"
   ]
  },
  {
   "cell_type": "code",
   "execution_count": 34,
   "metadata": {},
   "outputs": [
    {
     "name": "stdout",
     "output_type": "stream",
     "text": [
      "<class 'pandas.core.frame.DataFrame'>\n",
      "RangeIndex: 264836 entries, 0 to 264835\n",
      "Data columns (total 8 columns):\n",
      " #   Column          Non-Null Count   Dtype         \n",
      "---  ------          --------------   -----         \n",
      " 0   DATE            264836 non-null  datetime64[ns]\n",
      " 1   STORE_NBR       264836 non-null  int64         \n",
      " 2   LYLTY_CARD_NBR  264836 non-null  int64         \n",
      " 3   TXN_ID          264836 non-null  int64         \n",
      " 4   PROD_NBR        264836 non-null  int64         \n",
      " 5   PROD_NAME       264836 non-null  object        \n",
      " 6   PROD_QTY        264836 non-null  int64         \n",
      " 7   TOT_SALES       264836 non-null  float64       \n",
      "dtypes: datetime64[ns](1), float64(1), int64(5), object(1)\n",
      "memory usage: 16.2+ MB\n"
     ]
    }
   ],
   "source": [
    "transaction.info()"
   ]
  },
  {
   "cell_type": "code",
   "execution_count": 35,
   "metadata": {},
   "outputs": [
    {
     "data": {
      "text/plain": [
       "(272,)"
      ]
     },
     "execution_count": 35,
     "metadata": {},
     "output_type": "execute_result"
    }
   ],
   "source": [
    "# Total number of stores.\n",
    "transaction.STORE_NBR.unique().shape  # 272 stores"
   ]
  },
  {
   "cell_type": "code",
   "execution_count": 36,
   "metadata": {},
   "outputs": [
    {
     "data": {
      "text/plain": [
       "(72637,)"
      ]
     },
     "execution_count": 36,
     "metadata": {},
     "output_type": "execute_result"
    }
   ],
   "source": [
    "# Total of customers card numbers\n",
    "transaction.LYLTY_CARD_NBR.unique().shape"
   ]
  },
  {
   "cell_type": "markdown",
   "metadata": {},
   "source": [
    "### Product name vs Product number"
   ]
  },
  {
   "cell_type": "code",
   "execution_count": 37,
   "metadata": {},
   "outputs": [
    {
     "data": {
      "text/plain": [
       "(114,)"
      ]
     },
     "execution_count": 37,
     "metadata": {},
     "output_type": "execute_result"
    }
   ],
   "source": [
    "# Total of products\n",
    "transaction.PROD_NBR.unique().shape"
   ]
  },
  {
   "cell_type": "code",
   "execution_count": 38,
   "metadata": {},
   "outputs": [
    {
     "data": {
      "text/plain": [
       "(114,)"
      ]
     },
     "execution_count": 38,
     "metadata": {},
     "output_type": "execute_result"
    }
   ],
   "source": [
    "# Total of products by name\n",
    "transaction.PROD_NAME.unique().shape"
   ]
  },
  {
   "cell_type": "code",
   "execution_count": 39,
   "metadata": {},
   "outputs": [
    {
     "data": {
      "text/plain": [
       "114"
      ]
     },
     "execution_count": 39,
     "metadata": {},
     "output_type": "execute_result"
    }
   ],
   "source": [
    "# Checking there are no inconsistencies betweeen Name and code.\n",
    "transaction.drop_duplicates(subset=['PROD_NBR','PROD_NAME'],keep='first').shape[0]"
   ]
  },
  {
   "cell_type": "markdown",
   "metadata": {},
   "source": [
    "There are 114 diferent products in our stores. There are no inconsistecies between names and codes."
   ]
  },
  {
   "cell_type": "markdown",
   "metadata": {},
   "source": [
    "### Analyzing Product name."
   ]
  },
  {
   "cell_type": "code",
   "execution_count": 40,
   "metadata": {},
   "outputs": [
    {
     "data": {
      "text/plain": [
       "array(['Natural Chip        Compny SeaSalt175g',\n",
       "       'CCs Nacho Cheese    175g',\n",
       "       'Smiths Crinkle Cut  Chips Chicken 170g',\n",
       "       'Smiths Chip Thinly  S/Cream&Onion 175g',\n",
       "       'Kettle Tortilla ChpsHny&Jlpno Chili 150g',\n",
       "       'Old El Paso Salsa   Dip Tomato Mild 300g',\n",
       "       'Smiths Crinkle Chips Salt & Vinegar 330g',\n",
       "       'Grain Waves         Sweet Chilli 210g',\n",
       "       'Doritos Corn Chip Mexican Jalapeno 150g',\n",
       "       'Grain Waves Sour    Cream&Chives 210G',\n",
       "       'Kettle Sensations   Siracha Lime 150g',\n",
       "       'Twisties Cheese     270g', 'WW Crinkle Cut      Chicken 175g',\n",
       "       'Thins Chips Light&  Tangy 175g', 'CCs Original 175g',\n",
       "       'Burger Rings 220g', 'NCC Sour Cream &    Garden Chives 175g',\n",
       "       'Doritos Corn Chip Southern Chicken 150g',\n",
       "       'Cheezels Cheese Box 125g', 'Smiths Crinkle      Original 330g',\n",
       "       'Infzns Crn Crnchers Tangy Gcamole 110g',\n",
       "       'Kettle Sea Salt     And Vinegar 175g',\n",
       "       'Smiths Chip Thinly  Cut Original 175g', 'Kettle Original 175g',\n",
       "       'Red Rock Deli Thai  Chilli&Lime 150g',\n",
       "       'Pringles Sthrn FriedChicken 134g', 'Pringles Sweet&Spcy BBQ 134g',\n",
       "       'Red Rock Deli SR    Salsa & Mzzrlla 150g',\n",
       "       'Thins Chips         Originl saltd 175g',\n",
       "       'Red Rock Deli Sp    Salt & Truffle 150G',\n",
       "       'Smiths Thinly       Swt Chli&S/Cream175G', 'Kettle Chilli 175g',\n",
       "       'Doritos Mexicana    170g',\n",
       "       'Smiths Crinkle Cut  French OnionDip 150g',\n",
       "       'Natural ChipCo      Hony Soy Chckn175g',\n",
       "       'Dorito Corn Chp     Supreme 380g', 'Twisties Chicken270g',\n",
       "       'Smiths Thinly Cut   Roast Chicken 175g',\n",
       "       'Smiths Crinkle Cut  Tomato Salsa 150g',\n",
       "       'Kettle Mozzarella   Basil & Pesto 175g',\n",
       "       'Infuzions Thai SweetChili PotatoMix 110g',\n",
       "       'Kettle Sensations   Camembert & Fig 150g',\n",
       "       'Smith Crinkle Cut   Mac N Cheese 150g',\n",
       "       'Kettle Honey Soy    Chicken 175g',\n",
       "       'Thins Chips Seasonedchicken 175g',\n",
       "       'Smiths Crinkle Cut  Salt & Vinegar 170g',\n",
       "       'Infuzions BBQ Rib   Prawn Crackers 110g',\n",
       "       'GrnWves Plus Btroot & Chilli Jam 180g',\n",
       "       'Tyrrells Crisps     Lightly Salted 165g',\n",
       "       'Kettle Sweet Chilli And Sour Cream 175g',\n",
       "       'Doritos Salsa       Medium 300g', 'Kettle 135g Swt Pot Sea Salt',\n",
       "       'Pringles SourCream  Onion 134g',\n",
       "       'Doritos Corn Chips  Original 170g',\n",
       "       'Twisties Cheese     Burger 250g',\n",
       "       'Old El Paso Salsa   Dip Chnky Tom Ht300g',\n",
       "       'Cobs Popd Swt/Chlli &Sr/Cream Chips 110g',\n",
       "       'Woolworths Mild     Salsa 300g',\n",
       "       'Natural Chip Co     Tmato Hrb&Spce 175g',\n",
       "       'Smiths Crinkle Cut  Chips Original 170g',\n",
       "       'Cobs Popd Sea Salt  Chips 110g',\n",
       "       'Smiths Crinkle Cut  Chips Chs&Onion170g',\n",
       "       'French Fries Potato Chips 175g',\n",
       "       'Old El Paso Salsa   Dip Tomato Med 300g',\n",
       "       'Doritos Corn Chips  Cheese Supreme 170g',\n",
       "       'Pringles Original   Crisps 134g',\n",
       "       'RRD Chilli&         Coconut 150g',\n",
       "       'WW Original Corn    Chips 200g',\n",
       "       'Thins Potato Chips  Hot & Spicy 175g',\n",
       "       'Cobs Popd Sour Crm  &Chives Chips 110g',\n",
       "       'Smiths Crnkle Chip  Orgnl Big Bag 380g',\n",
       "       'Doritos Corn Chips  Nacho Cheese 170g',\n",
       "       'Kettle Sensations   BBQ&Maple 150g',\n",
       "       'WW D/Style Chip     Sea Salt 200g',\n",
       "       'Pringles Chicken    Salt Crips 134g',\n",
       "       'WW Original Stacked Chips 160g',\n",
       "       'Smiths Chip Thinly  CutSalt/Vinegr175g', 'Cheezels Cheese 330g',\n",
       "       'Tostitos Lightly    Salted 175g',\n",
       "       'Thins Chips Salt &  Vinegar 175g',\n",
       "       'Smiths Crinkle Cut  Chips Barbecue 170g', 'Cheetos Puffs 165g',\n",
       "       'RRD Sweet Chilli &  Sour Cream 165g',\n",
       "       'WW Crinkle Cut      Original 175g',\n",
       "       'Tostitos Splash Of  Lime 175g', 'Woolworths Medium   Salsa 300g',\n",
       "       'Kettle Tortilla ChpsBtroot&Ricotta 150g',\n",
       "       'CCs Tasty Cheese    175g', 'Woolworths Cheese   Rings 190g',\n",
       "       'Tostitos Smoked     Chipotle 175g', 'Pringles Barbeque   134g',\n",
       "       'WW Supreme Cheese   Corn Chips 200g',\n",
       "       'Pringles Mystery    Flavour 134g',\n",
       "       'Tyrrells Crisps     Ched & Chives 165g',\n",
       "       'Snbts Whlgrn Crisps Cheddr&Mstrd 90g',\n",
       "       'Cheetos Chs & Bacon Balls 190g', 'Pringles Slt Vingar 134g',\n",
       "       'Infuzions SourCream&Herbs Veg Strws 110g',\n",
       "       'Kettle Tortilla ChpsFeta&Garlic 150g',\n",
       "       'Infuzions Mango     Chutny Papadums 70g',\n",
       "       'RRD Steak &         Chimuchurri 150g',\n",
       "       'RRD Honey Soy       Chicken 165g',\n",
       "       'Sunbites Whlegrn    Crisps Frch/Onin 90g',\n",
       "       'RRD Salt & Vinegar  165g', 'Doritos Cheese      Supreme 330g',\n",
       "       'Smiths Crinkle Cut  Snag&Sauce 150g',\n",
       "       'WW Sour Cream &OnionStacked Chips 160g',\n",
       "       'RRD Lime & Pepper   165g',\n",
       "       'Natural ChipCo Sea  Salt & Vinegr 175g',\n",
       "       'Red Rock Deli Chikn&Garlic Aioli 150g',\n",
       "       'RRD SR Slow Rst     Pork Belly 150g', 'RRD Pc Sea Salt     165g',\n",
       "       'Smith Crinkle Cut   Bolognese 150g', 'Doritos Salsa Mild  300g'],\n",
       "      dtype=object)"
      ]
     },
     "execution_count": 40,
     "metadata": {},
     "output_type": "execute_result"
    }
   ],
   "source": [
    "pd.set_option('display.max_rows', 114) \n",
    "prod_name=transaction['PROD_NAME'].unique()\n",
    "prod_name"
   ]
  },
  {
   "cell_type": "code",
   "execution_count": 41,
   "metadata": {},
   "outputs": [],
   "source": [
    "pd.set_option('display.max_rows', 10) "
   ]
  },
  {
   "cell_type": "markdown",
   "metadata": {},
   "source": [
    "Product name has three chunks of information, brand name, product name and packet size. If we take a look on the product name list, it seems the there are three kind of products chips, nachos and salsa on our stores, so it is time to create a new feature PROD_TYPE."
   ]
  },
  {
   "cell_type": "code",
   "execution_count": 42,
   "metadata": {},
   "outputs": [
    {
     "name": "stderr",
     "output_type": "stream",
     "text": [
      "C:\\Users\\iukan\\anaconda3\\lib\\site-packages\\pandas\\core\\strings.py:2001: UserWarning: This pattern has match groups. To actually get the groups, use str.extract.\n",
      "  return func(self, *args, **kwargs)\n"
     ]
    }
   ],
   "source": [
    "# Product type related feature\n",
    "transaction['PROD_TYPE']='Chips'\n",
    "transaction.loc[transaction.PROD_NAME.str.contains('([Ss]alsa)'),'PROD_TYPE']='Salsa'\n",
    "transaction.loc[transaction.PROD_NAME.str.contains('([Nn]achos?)'),'PROD_TYPE']='Nachos'"
   ]
  },
  {
   "cell_type": "code",
   "execution_count": 43,
   "metadata": {},
   "outputs": [
    {
     "data": {
      "text/plain": [
       "Chips     91.409023\n",
       "Salsa      6.832153\n",
       "Nachos     1.758824\n",
       "Name: PROD_TYPE, dtype: float64"
      ]
     },
     "execution_count": 43,
     "metadata": {},
     "output_type": "execute_result"
    }
   ],
   "source": [
    "# Pct of salsa number of sales.\n",
    "transaction['PROD_TYPE'].value_counts(normalize=True)*100"
   ]
  },
  {
   "cell_type": "code",
   "execution_count": 44,
   "metadata": {},
   "outputs": [],
   "source": [
    "# Packet size\n",
    "transaction['PROD_SIZE']=transaction.PROD_NAME.str.extract(r'(\\d+[gG])')[0].str.slice(0,-1).astype('int')"
   ]
  },
  {
   "cell_type": "markdown",
   "metadata": {},
   "source": [
    "### Brand Name.\n",
    "\n",
    "It is possible to extract brand name from product name feature."
   ]
  },
  {
   "cell_type": "code",
   "execution_count": 45,
   "metadata": {},
   "outputs": [],
   "source": [
    "# Dataframe with product name\n",
    "products=transaction[['PROD_NAME']].drop_duplicates().reset_index(drop=True)"
   ]
  },
  {
   "cell_type": "code",
   "execution_count": 46,
   "metadata": {},
   "outputs": [
    {
     "data": {
      "text/plain": [
       "array(['Natural', 'CCs', 'Smiths', 'Kettle', 'Old', 'Grain', 'Doritos',\n",
       "       'Twisties', 'WW', 'Thins', 'Burger', 'NCC', 'Cheezels', 'Infzns',\n",
       "       'Red', 'Pringles', 'Dorito', 'Infuzions', 'Smith', 'GrnWves',\n",
       "       'Tyrrells', 'Cobs', 'Woolworths', 'French', 'RRD', 'Tostitos',\n",
       "       'Cheetos', 'Snbts', 'Sunbites'], dtype=object)"
      ]
     },
     "execution_count": 46,
     "metadata": {},
     "output_type": "execute_result"
    }
   ],
   "source": [
    "# First word of each product unique vector\n",
    "products['PROD_NAME'].str.split(' ',expand=True)[0].unique()"
   ]
  },
  {
   "cell_type": "markdown",
   "metadata": {},
   "source": [
    "Acording to that unique list of words I will be able to guess brand names so I write list with all brands."
   ]
  },
  {
   "cell_type": "code",
   "execution_count": 47,
   "metadata": {},
   "outputs": [],
   "source": [
    "brands=['Natural Chips Co.', 'CCs','Smiths','Kettle', 'Old El Paso','Grain Waves',\n",
    "        'Doritos','Twisties','Woolworths','Thins','Burguer Rings','Cheezels','Infuzions',\n",
    "        'Red Rock Dely','Pringles','Tyrrels','Cobs','French Fries','Tostitos','Cheetos','Sunbites']"
   ]
  },
  {
   "cell_type": "markdown",
   "metadata": {},
   "source": [
    "NCC and WW are more likely to be confused with diferent brands so I will replace them with their actual brand name. "
   ]
  },
  {
   "cell_type": "code",
   "execution_count": 48,
   "metadata": {},
   "outputs": [],
   "source": [
    "products['FIRST_WORD']=products['PROD_NAME'].str.split(' ',expand=True)[0]\n",
    "products['FIRST_WORD']=products['FIRST_WORD'].str.replace('NCC','Natural Chips Co.')\n",
    "products['FIRST_WORD']=products['FIRST_WORD'].str.replace('WW','Woolworths')"
   ]
  },
  {
   "cell_type": "code",
   "execution_count": 49,
   "metadata": {},
   "outputs": [],
   "source": [
    "products['BRAND']=products.FIRST_WORD.apply(lambda x:process.extractOne(x.split(' ')[0],\n",
    "                                                           brands,\n",
    "                                                           scorer=fuzz.WRatio)[0])"
   ]
  },
  {
   "cell_type": "code",
   "execution_count": 50,
   "metadata": {},
   "outputs": [
    {
     "data": {
      "text/html": [
       "<div>\n",
       "<style scoped>\n",
       "    .dataframe tbody tr th:only-of-type {\n",
       "        vertical-align: middle;\n",
       "    }\n",
       "\n",
       "    .dataframe tbody tr th {\n",
       "        vertical-align: top;\n",
       "    }\n",
       "\n",
       "    .dataframe thead th {\n",
       "        text-align: right;\n",
       "    }\n",
       "</style>\n",
       "<table border=\"1\" class=\"dataframe\">\n",
       "  <thead>\n",
       "    <tr style=\"text-align: right;\">\n",
       "      <th></th>\n",
       "      <th>PROD_NAME</th>\n",
       "      <th>FIRST_WORD</th>\n",
       "      <th>BRAND</th>\n",
       "    </tr>\n",
       "  </thead>\n",
       "  <tbody>\n",
       "    <tr>\n",
       "      <th>0</th>\n",
       "      <td>Natural Chip        Compny SeaSalt175g</td>\n",
       "      <td>Natural</td>\n",
       "      <td>Natural Chips Co.</td>\n",
       "    </tr>\n",
       "    <tr>\n",
       "      <th>1</th>\n",
       "      <td>CCs Nacho Cheese    175g</td>\n",
       "      <td>CCs</td>\n",
       "      <td>CCs</td>\n",
       "    </tr>\n",
       "    <tr>\n",
       "      <th>2</th>\n",
       "      <td>Smiths Crinkle Cut  Chips Chicken 170g</td>\n",
       "      <td>Smiths</td>\n",
       "      <td>Smiths</td>\n",
       "    </tr>\n",
       "    <tr>\n",
       "      <th>3</th>\n",
       "      <td>Smiths Chip Thinly  S/Cream&amp;Onion 175g</td>\n",
       "      <td>Smiths</td>\n",
       "      <td>Smiths</td>\n",
       "    </tr>\n",
       "    <tr>\n",
       "      <th>4</th>\n",
       "      <td>Kettle Tortilla ChpsHny&amp;Jlpno Chili 150g</td>\n",
       "      <td>Kettle</td>\n",
       "      <td>Kettle</td>\n",
       "    </tr>\n",
       "    <tr>\n",
       "      <th>5</th>\n",
       "      <td>Old El Paso Salsa   Dip Tomato Mild 300g</td>\n",
       "      <td>Old</td>\n",
       "      <td>Old El Paso</td>\n",
       "    </tr>\n",
       "    <tr>\n",
       "      <th>6</th>\n",
       "      <td>Smiths Crinkle Chips Salt &amp; Vinegar 330g</td>\n",
       "      <td>Smiths</td>\n",
       "      <td>Smiths</td>\n",
       "    </tr>\n",
       "    <tr>\n",
       "      <th>7</th>\n",
       "      <td>Grain Waves         Sweet Chilli 210g</td>\n",
       "      <td>Grain</td>\n",
       "      <td>Grain Waves</td>\n",
       "    </tr>\n",
       "    <tr>\n",
       "      <th>8</th>\n",
       "      <td>Doritos Corn Chip Mexican Jalapeno 150g</td>\n",
       "      <td>Doritos</td>\n",
       "      <td>Doritos</td>\n",
       "    </tr>\n",
       "    <tr>\n",
       "      <th>9</th>\n",
       "      <td>Grain Waves Sour    Cream&amp;Chives 210G</td>\n",
       "      <td>Grain</td>\n",
       "      <td>Grain Waves</td>\n",
       "    </tr>\n",
       "    <tr>\n",
       "      <th>10</th>\n",
       "      <td>Kettle Sensations   Siracha Lime 150g</td>\n",
       "      <td>Kettle</td>\n",
       "      <td>Kettle</td>\n",
       "    </tr>\n",
       "    <tr>\n",
       "      <th>11</th>\n",
       "      <td>Twisties Cheese     270g</td>\n",
       "      <td>Twisties</td>\n",
       "      <td>Twisties</td>\n",
       "    </tr>\n",
       "    <tr>\n",
       "      <th>12</th>\n",
       "      <td>WW Crinkle Cut      Chicken 175g</td>\n",
       "      <td>Woolworths</td>\n",
       "      <td>Woolworths</td>\n",
       "    </tr>\n",
       "    <tr>\n",
       "      <th>13</th>\n",
       "      <td>Thins Chips Light&amp;  Tangy 175g</td>\n",
       "      <td>Thins</td>\n",
       "      <td>Thins</td>\n",
       "    </tr>\n",
       "    <tr>\n",
       "      <th>14</th>\n",
       "      <td>CCs Original 175g</td>\n",
       "      <td>CCs</td>\n",
       "      <td>CCs</td>\n",
       "    </tr>\n",
       "    <tr>\n",
       "      <th>15</th>\n",
       "      <td>Burger Rings 220g</td>\n",
       "      <td>Burger</td>\n",
       "      <td>Burguer Rings</td>\n",
       "    </tr>\n",
       "    <tr>\n",
       "      <th>16</th>\n",
       "      <td>NCC Sour Cream &amp;    Garden Chives 175g</td>\n",
       "      <td>Natural Chips Co.</td>\n",
       "      <td>Natural Chips Co.</td>\n",
       "    </tr>\n",
       "    <tr>\n",
       "      <th>17</th>\n",
       "      <td>Doritos Corn Chip Southern Chicken 150g</td>\n",
       "      <td>Doritos</td>\n",
       "      <td>Doritos</td>\n",
       "    </tr>\n",
       "    <tr>\n",
       "      <th>18</th>\n",
       "      <td>Cheezels Cheese Box 125g</td>\n",
       "      <td>Cheezels</td>\n",
       "      <td>Cheezels</td>\n",
       "    </tr>\n",
       "    <tr>\n",
       "      <th>19</th>\n",
       "      <td>Smiths Crinkle      Original 330g</td>\n",
       "      <td>Smiths</td>\n",
       "      <td>Smiths</td>\n",
       "    </tr>\n",
       "    <tr>\n",
       "      <th>20</th>\n",
       "      <td>Infzns Crn Crnchers Tangy Gcamole 110g</td>\n",
       "      <td>Infzns</td>\n",
       "      <td>Infuzions</td>\n",
       "    </tr>\n",
       "    <tr>\n",
       "      <th>21</th>\n",
       "      <td>Kettle Sea Salt     And Vinegar 175g</td>\n",
       "      <td>Kettle</td>\n",
       "      <td>Kettle</td>\n",
       "    </tr>\n",
       "    <tr>\n",
       "      <th>22</th>\n",
       "      <td>Smiths Chip Thinly  Cut Original 175g</td>\n",
       "      <td>Smiths</td>\n",
       "      <td>Smiths</td>\n",
       "    </tr>\n",
       "    <tr>\n",
       "      <th>23</th>\n",
       "      <td>Kettle Original 175g</td>\n",
       "      <td>Kettle</td>\n",
       "      <td>Kettle</td>\n",
       "    </tr>\n",
       "    <tr>\n",
       "      <th>24</th>\n",
       "      <td>Red Rock Deli Thai  Chilli&amp;Lime 150g</td>\n",
       "      <td>Red</td>\n",
       "      <td>Red Rock Dely</td>\n",
       "    </tr>\n",
       "    <tr>\n",
       "      <th>25</th>\n",
       "      <td>Pringles Sthrn FriedChicken 134g</td>\n",
       "      <td>Pringles</td>\n",
       "      <td>Pringles</td>\n",
       "    </tr>\n",
       "    <tr>\n",
       "      <th>26</th>\n",
       "      <td>Pringles Sweet&amp;Spcy BBQ 134g</td>\n",
       "      <td>Pringles</td>\n",
       "      <td>Pringles</td>\n",
       "    </tr>\n",
       "    <tr>\n",
       "      <th>27</th>\n",
       "      <td>Red Rock Deli SR    Salsa &amp; Mzzrlla 150g</td>\n",
       "      <td>Red</td>\n",
       "      <td>Red Rock Dely</td>\n",
       "    </tr>\n",
       "    <tr>\n",
       "      <th>28</th>\n",
       "      <td>Thins Chips         Originl saltd 175g</td>\n",
       "      <td>Thins</td>\n",
       "      <td>Thins</td>\n",
       "    </tr>\n",
       "    <tr>\n",
       "      <th>29</th>\n",
       "      <td>Red Rock Deli Sp    Salt &amp; Truffle 150G</td>\n",
       "      <td>Red</td>\n",
       "      <td>Red Rock Dely</td>\n",
       "    </tr>\n",
       "    <tr>\n",
       "      <th>30</th>\n",
       "      <td>Smiths Thinly       Swt Chli&amp;S/Cream175G</td>\n",
       "      <td>Smiths</td>\n",
       "      <td>Smiths</td>\n",
       "    </tr>\n",
       "    <tr>\n",
       "      <th>31</th>\n",
       "      <td>Kettle Chilli 175g</td>\n",
       "      <td>Kettle</td>\n",
       "      <td>Kettle</td>\n",
       "    </tr>\n",
       "    <tr>\n",
       "      <th>32</th>\n",
       "      <td>Doritos Mexicana    170g</td>\n",
       "      <td>Doritos</td>\n",
       "      <td>Doritos</td>\n",
       "    </tr>\n",
       "    <tr>\n",
       "      <th>33</th>\n",
       "      <td>Smiths Crinkle Cut  French OnionDip 150g</td>\n",
       "      <td>Smiths</td>\n",
       "      <td>Smiths</td>\n",
       "    </tr>\n",
       "    <tr>\n",
       "      <th>34</th>\n",
       "      <td>Natural ChipCo      Hony Soy Chckn175g</td>\n",
       "      <td>Natural</td>\n",
       "      <td>Natural Chips Co.</td>\n",
       "    </tr>\n",
       "    <tr>\n",
       "      <th>35</th>\n",
       "      <td>Dorito Corn Chp     Supreme 380g</td>\n",
       "      <td>Dorito</td>\n",
       "      <td>Doritos</td>\n",
       "    </tr>\n",
       "    <tr>\n",
       "      <th>36</th>\n",
       "      <td>Twisties Chicken270g</td>\n",
       "      <td>Twisties</td>\n",
       "      <td>Twisties</td>\n",
       "    </tr>\n",
       "    <tr>\n",
       "      <th>37</th>\n",
       "      <td>Smiths Thinly Cut   Roast Chicken 175g</td>\n",
       "      <td>Smiths</td>\n",
       "      <td>Smiths</td>\n",
       "    </tr>\n",
       "    <tr>\n",
       "      <th>38</th>\n",
       "      <td>Smiths Crinkle Cut  Tomato Salsa 150g</td>\n",
       "      <td>Smiths</td>\n",
       "      <td>Smiths</td>\n",
       "    </tr>\n",
       "    <tr>\n",
       "      <th>39</th>\n",
       "      <td>Kettle Mozzarella   Basil &amp; Pesto 175g</td>\n",
       "      <td>Kettle</td>\n",
       "      <td>Kettle</td>\n",
       "    </tr>\n",
       "    <tr>\n",
       "      <th>40</th>\n",
       "      <td>Infuzions Thai SweetChili PotatoMix 110g</td>\n",
       "      <td>Infuzions</td>\n",
       "      <td>Infuzions</td>\n",
       "    </tr>\n",
       "    <tr>\n",
       "      <th>41</th>\n",
       "      <td>Kettle Sensations   Camembert &amp; Fig 150g</td>\n",
       "      <td>Kettle</td>\n",
       "      <td>Kettle</td>\n",
       "    </tr>\n",
       "    <tr>\n",
       "      <th>42</th>\n",
       "      <td>Smith Crinkle Cut   Mac N Cheese 150g</td>\n",
       "      <td>Smith</td>\n",
       "      <td>Smiths</td>\n",
       "    </tr>\n",
       "    <tr>\n",
       "      <th>43</th>\n",
       "      <td>Kettle Honey Soy    Chicken 175g</td>\n",
       "      <td>Kettle</td>\n",
       "      <td>Kettle</td>\n",
       "    </tr>\n",
       "    <tr>\n",
       "      <th>44</th>\n",
       "      <td>Thins Chips Seasonedchicken 175g</td>\n",
       "      <td>Thins</td>\n",
       "      <td>Thins</td>\n",
       "    </tr>\n",
       "    <tr>\n",
       "      <th>45</th>\n",
       "      <td>Smiths Crinkle Cut  Salt &amp; Vinegar 170g</td>\n",
       "      <td>Smiths</td>\n",
       "      <td>Smiths</td>\n",
       "    </tr>\n",
       "    <tr>\n",
       "      <th>46</th>\n",
       "      <td>Infuzions BBQ Rib   Prawn Crackers 110g</td>\n",
       "      <td>Infuzions</td>\n",
       "      <td>Infuzions</td>\n",
       "    </tr>\n",
       "    <tr>\n",
       "      <th>47</th>\n",
       "      <td>GrnWves Plus Btroot &amp; Chilli Jam 180g</td>\n",
       "      <td>GrnWves</td>\n",
       "      <td>Grain Waves</td>\n",
       "    </tr>\n",
       "    <tr>\n",
       "      <th>48</th>\n",
       "      <td>Tyrrells Crisps     Lightly Salted 165g</td>\n",
       "      <td>Tyrrells</td>\n",
       "      <td>Tyrrels</td>\n",
       "    </tr>\n",
       "    <tr>\n",
       "      <th>49</th>\n",
       "      <td>Kettle Sweet Chilli And Sour Cream 175g</td>\n",
       "      <td>Kettle</td>\n",
       "      <td>Kettle</td>\n",
       "    </tr>\n",
       "    <tr>\n",
       "      <th>50</th>\n",
       "      <td>Doritos Salsa       Medium 300g</td>\n",
       "      <td>Doritos</td>\n",
       "      <td>Doritos</td>\n",
       "    </tr>\n",
       "    <tr>\n",
       "      <th>51</th>\n",
       "      <td>Kettle 135g Swt Pot Sea Salt</td>\n",
       "      <td>Kettle</td>\n",
       "      <td>Kettle</td>\n",
       "    </tr>\n",
       "    <tr>\n",
       "      <th>52</th>\n",
       "      <td>Pringles SourCream  Onion 134g</td>\n",
       "      <td>Pringles</td>\n",
       "      <td>Pringles</td>\n",
       "    </tr>\n",
       "    <tr>\n",
       "      <th>53</th>\n",
       "      <td>Doritos Corn Chips  Original 170g</td>\n",
       "      <td>Doritos</td>\n",
       "      <td>Doritos</td>\n",
       "    </tr>\n",
       "    <tr>\n",
       "      <th>54</th>\n",
       "      <td>Twisties Cheese     Burger 250g</td>\n",
       "      <td>Twisties</td>\n",
       "      <td>Twisties</td>\n",
       "    </tr>\n",
       "    <tr>\n",
       "      <th>55</th>\n",
       "      <td>Old El Paso Salsa   Dip Chnky Tom Ht300g</td>\n",
       "      <td>Old</td>\n",
       "      <td>Old El Paso</td>\n",
       "    </tr>\n",
       "    <tr>\n",
       "      <th>56</th>\n",
       "      <td>Cobs Popd Swt/Chlli &amp;Sr/Cream Chips 110g</td>\n",
       "      <td>Cobs</td>\n",
       "      <td>Cobs</td>\n",
       "    </tr>\n",
       "    <tr>\n",
       "      <th>57</th>\n",
       "      <td>Woolworths Mild     Salsa 300g</td>\n",
       "      <td>Woolworths</td>\n",
       "      <td>Woolworths</td>\n",
       "    </tr>\n",
       "    <tr>\n",
       "      <th>58</th>\n",
       "      <td>Natural Chip Co     Tmato Hrb&amp;Spce 175g</td>\n",
       "      <td>Natural</td>\n",
       "      <td>Natural Chips Co.</td>\n",
       "    </tr>\n",
       "    <tr>\n",
       "      <th>59</th>\n",
       "      <td>Smiths Crinkle Cut  Chips Original 170g</td>\n",
       "      <td>Smiths</td>\n",
       "      <td>Smiths</td>\n",
       "    </tr>\n",
       "    <tr>\n",
       "      <th>60</th>\n",
       "      <td>Cobs Popd Sea Salt  Chips 110g</td>\n",
       "      <td>Cobs</td>\n",
       "      <td>Cobs</td>\n",
       "    </tr>\n",
       "    <tr>\n",
       "      <th>61</th>\n",
       "      <td>Smiths Crinkle Cut  Chips Chs&amp;Onion170g</td>\n",
       "      <td>Smiths</td>\n",
       "      <td>Smiths</td>\n",
       "    </tr>\n",
       "    <tr>\n",
       "      <th>62</th>\n",
       "      <td>French Fries Potato Chips 175g</td>\n",
       "      <td>French</td>\n",
       "      <td>French Fries</td>\n",
       "    </tr>\n",
       "    <tr>\n",
       "      <th>63</th>\n",
       "      <td>Old El Paso Salsa   Dip Tomato Med 300g</td>\n",
       "      <td>Old</td>\n",
       "      <td>Old El Paso</td>\n",
       "    </tr>\n",
       "    <tr>\n",
       "      <th>64</th>\n",
       "      <td>Doritos Corn Chips  Cheese Supreme 170g</td>\n",
       "      <td>Doritos</td>\n",
       "      <td>Doritos</td>\n",
       "    </tr>\n",
       "    <tr>\n",
       "      <th>65</th>\n",
       "      <td>Pringles Original   Crisps 134g</td>\n",
       "      <td>Pringles</td>\n",
       "      <td>Pringles</td>\n",
       "    </tr>\n",
       "    <tr>\n",
       "      <th>66</th>\n",
       "      <td>RRD Chilli&amp;         Coconut 150g</td>\n",
       "      <td>RRD</td>\n",
       "      <td>Red Rock Dely</td>\n",
       "    </tr>\n",
       "    <tr>\n",
       "      <th>67</th>\n",
       "      <td>WW Original Corn    Chips 200g</td>\n",
       "      <td>Woolworths</td>\n",
       "      <td>Woolworths</td>\n",
       "    </tr>\n",
       "    <tr>\n",
       "      <th>68</th>\n",
       "      <td>Thins Potato Chips  Hot &amp; Spicy 175g</td>\n",
       "      <td>Thins</td>\n",
       "      <td>Thins</td>\n",
       "    </tr>\n",
       "    <tr>\n",
       "      <th>69</th>\n",
       "      <td>Cobs Popd Sour Crm  &amp;Chives Chips 110g</td>\n",
       "      <td>Cobs</td>\n",
       "      <td>Cobs</td>\n",
       "    </tr>\n",
       "    <tr>\n",
       "      <th>70</th>\n",
       "      <td>Smiths Crnkle Chip  Orgnl Big Bag 380g</td>\n",
       "      <td>Smiths</td>\n",
       "      <td>Smiths</td>\n",
       "    </tr>\n",
       "    <tr>\n",
       "      <th>71</th>\n",
       "      <td>Doritos Corn Chips  Nacho Cheese 170g</td>\n",
       "      <td>Doritos</td>\n",
       "      <td>Doritos</td>\n",
       "    </tr>\n",
       "    <tr>\n",
       "      <th>72</th>\n",
       "      <td>Kettle Sensations   BBQ&amp;Maple 150g</td>\n",
       "      <td>Kettle</td>\n",
       "      <td>Kettle</td>\n",
       "    </tr>\n",
       "    <tr>\n",
       "      <th>73</th>\n",
       "      <td>WW D/Style Chip     Sea Salt 200g</td>\n",
       "      <td>Woolworths</td>\n",
       "      <td>Woolworths</td>\n",
       "    </tr>\n",
       "    <tr>\n",
       "      <th>74</th>\n",
       "      <td>Pringles Chicken    Salt Crips 134g</td>\n",
       "      <td>Pringles</td>\n",
       "      <td>Pringles</td>\n",
       "    </tr>\n",
       "    <tr>\n",
       "      <th>75</th>\n",
       "      <td>WW Original Stacked Chips 160g</td>\n",
       "      <td>Woolworths</td>\n",
       "      <td>Woolworths</td>\n",
       "    </tr>\n",
       "    <tr>\n",
       "      <th>76</th>\n",
       "      <td>Smiths Chip Thinly  CutSalt/Vinegr175g</td>\n",
       "      <td>Smiths</td>\n",
       "      <td>Smiths</td>\n",
       "    </tr>\n",
       "    <tr>\n",
       "      <th>77</th>\n",
       "      <td>Cheezels Cheese 330g</td>\n",
       "      <td>Cheezels</td>\n",
       "      <td>Cheezels</td>\n",
       "    </tr>\n",
       "    <tr>\n",
       "      <th>78</th>\n",
       "      <td>Tostitos Lightly    Salted 175g</td>\n",
       "      <td>Tostitos</td>\n",
       "      <td>Tostitos</td>\n",
       "    </tr>\n",
       "    <tr>\n",
       "      <th>79</th>\n",
       "      <td>Thins Chips Salt &amp;  Vinegar 175g</td>\n",
       "      <td>Thins</td>\n",
       "      <td>Thins</td>\n",
       "    </tr>\n",
       "    <tr>\n",
       "      <th>80</th>\n",
       "      <td>Smiths Crinkle Cut  Chips Barbecue 170g</td>\n",
       "      <td>Smiths</td>\n",
       "      <td>Smiths</td>\n",
       "    </tr>\n",
       "    <tr>\n",
       "      <th>81</th>\n",
       "      <td>Cheetos Puffs 165g</td>\n",
       "      <td>Cheetos</td>\n",
       "      <td>Cheetos</td>\n",
       "    </tr>\n",
       "    <tr>\n",
       "      <th>82</th>\n",
       "      <td>RRD Sweet Chilli &amp;  Sour Cream 165g</td>\n",
       "      <td>RRD</td>\n",
       "      <td>Red Rock Dely</td>\n",
       "    </tr>\n",
       "    <tr>\n",
       "      <th>83</th>\n",
       "      <td>WW Crinkle Cut      Original 175g</td>\n",
       "      <td>Woolworths</td>\n",
       "      <td>Woolworths</td>\n",
       "    </tr>\n",
       "    <tr>\n",
       "      <th>84</th>\n",
       "      <td>Tostitos Splash Of  Lime 175g</td>\n",
       "      <td>Tostitos</td>\n",
       "      <td>Tostitos</td>\n",
       "    </tr>\n",
       "    <tr>\n",
       "      <th>85</th>\n",
       "      <td>Woolworths Medium   Salsa 300g</td>\n",
       "      <td>Woolworths</td>\n",
       "      <td>Woolworths</td>\n",
       "    </tr>\n",
       "    <tr>\n",
       "      <th>86</th>\n",
       "      <td>Kettle Tortilla ChpsBtroot&amp;Ricotta 150g</td>\n",
       "      <td>Kettle</td>\n",
       "      <td>Kettle</td>\n",
       "    </tr>\n",
       "    <tr>\n",
       "      <th>87</th>\n",
       "      <td>CCs Tasty Cheese    175g</td>\n",
       "      <td>CCs</td>\n",
       "      <td>CCs</td>\n",
       "    </tr>\n",
       "    <tr>\n",
       "      <th>88</th>\n",
       "      <td>Woolworths Cheese   Rings 190g</td>\n",
       "      <td>Woolworths</td>\n",
       "      <td>Woolworths</td>\n",
       "    </tr>\n",
       "    <tr>\n",
       "      <th>89</th>\n",
       "      <td>Tostitos Smoked     Chipotle 175g</td>\n",
       "      <td>Tostitos</td>\n",
       "      <td>Tostitos</td>\n",
       "    </tr>\n",
       "    <tr>\n",
       "      <th>90</th>\n",
       "      <td>Pringles Barbeque   134g</td>\n",
       "      <td>Pringles</td>\n",
       "      <td>Pringles</td>\n",
       "    </tr>\n",
       "    <tr>\n",
       "      <th>91</th>\n",
       "      <td>WW Supreme Cheese   Corn Chips 200g</td>\n",
       "      <td>Woolworths</td>\n",
       "      <td>Woolworths</td>\n",
       "    </tr>\n",
       "    <tr>\n",
       "      <th>92</th>\n",
       "      <td>Pringles Mystery    Flavour 134g</td>\n",
       "      <td>Pringles</td>\n",
       "      <td>Pringles</td>\n",
       "    </tr>\n",
       "    <tr>\n",
       "      <th>93</th>\n",
       "      <td>Tyrrells Crisps     Ched &amp; Chives 165g</td>\n",
       "      <td>Tyrrells</td>\n",
       "      <td>Tyrrels</td>\n",
       "    </tr>\n",
       "    <tr>\n",
       "      <th>94</th>\n",
       "      <td>Snbts Whlgrn Crisps Cheddr&amp;Mstrd 90g</td>\n",
       "      <td>Snbts</td>\n",
       "      <td>Sunbites</td>\n",
       "    </tr>\n",
       "    <tr>\n",
       "      <th>95</th>\n",
       "      <td>Cheetos Chs &amp; Bacon Balls 190g</td>\n",
       "      <td>Cheetos</td>\n",
       "      <td>Cheetos</td>\n",
       "    </tr>\n",
       "    <tr>\n",
       "      <th>96</th>\n",
       "      <td>Pringles Slt Vingar 134g</td>\n",
       "      <td>Pringles</td>\n",
       "      <td>Pringles</td>\n",
       "    </tr>\n",
       "    <tr>\n",
       "      <th>97</th>\n",
       "      <td>Infuzions SourCream&amp;Herbs Veg Strws 110g</td>\n",
       "      <td>Infuzions</td>\n",
       "      <td>Infuzions</td>\n",
       "    </tr>\n",
       "    <tr>\n",
       "      <th>98</th>\n",
       "      <td>Kettle Tortilla ChpsFeta&amp;Garlic 150g</td>\n",
       "      <td>Kettle</td>\n",
       "      <td>Kettle</td>\n",
       "    </tr>\n",
       "    <tr>\n",
       "      <th>99</th>\n",
       "      <td>Infuzions Mango     Chutny Papadums 70g</td>\n",
       "      <td>Infuzions</td>\n",
       "      <td>Infuzions</td>\n",
       "    </tr>\n",
       "    <tr>\n",
       "      <th>100</th>\n",
       "      <td>RRD Steak &amp;         Chimuchurri 150g</td>\n",
       "      <td>RRD</td>\n",
       "      <td>Red Rock Dely</td>\n",
       "    </tr>\n",
       "    <tr>\n",
       "      <th>101</th>\n",
       "      <td>RRD Honey Soy       Chicken 165g</td>\n",
       "      <td>RRD</td>\n",
       "      <td>Red Rock Dely</td>\n",
       "    </tr>\n",
       "    <tr>\n",
       "      <th>102</th>\n",
       "      <td>Sunbites Whlegrn    Crisps Frch/Onin 90g</td>\n",
       "      <td>Sunbites</td>\n",
       "      <td>Sunbites</td>\n",
       "    </tr>\n",
       "    <tr>\n",
       "      <th>103</th>\n",
       "      <td>RRD Salt &amp; Vinegar  165g</td>\n",
       "      <td>RRD</td>\n",
       "      <td>Red Rock Dely</td>\n",
       "    </tr>\n",
       "    <tr>\n",
       "      <th>104</th>\n",
       "      <td>Doritos Cheese      Supreme 330g</td>\n",
       "      <td>Doritos</td>\n",
       "      <td>Doritos</td>\n",
       "    </tr>\n",
       "    <tr>\n",
       "      <th>105</th>\n",
       "      <td>Smiths Crinkle Cut  Snag&amp;Sauce 150g</td>\n",
       "      <td>Smiths</td>\n",
       "      <td>Smiths</td>\n",
       "    </tr>\n",
       "    <tr>\n",
       "      <th>106</th>\n",
       "      <td>WW Sour Cream &amp;OnionStacked Chips 160g</td>\n",
       "      <td>Woolworths</td>\n",
       "      <td>Woolworths</td>\n",
       "    </tr>\n",
       "    <tr>\n",
       "      <th>107</th>\n",
       "      <td>RRD Lime &amp; Pepper   165g</td>\n",
       "      <td>RRD</td>\n",
       "      <td>Red Rock Dely</td>\n",
       "    </tr>\n",
       "    <tr>\n",
       "      <th>108</th>\n",
       "      <td>Natural ChipCo Sea  Salt &amp; Vinegr 175g</td>\n",
       "      <td>Natural</td>\n",
       "      <td>Natural Chips Co.</td>\n",
       "    </tr>\n",
       "    <tr>\n",
       "      <th>109</th>\n",
       "      <td>Red Rock Deli Chikn&amp;Garlic Aioli 150g</td>\n",
       "      <td>Red</td>\n",
       "      <td>Red Rock Dely</td>\n",
       "    </tr>\n",
       "    <tr>\n",
       "      <th>110</th>\n",
       "      <td>RRD SR Slow Rst     Pork Belly 150g</td>\n",
       "      <td>RRD</td>\n",
       "      <td>Red Rock Dely</td>\n",
       "    </tr>\n",
       "    <tr>\n",
       "      <th>111</th>\n",
       "      <td>RRD Pc Sea Salt     165g</td>\n",
       "      <td>RRD</td>\n",
       "      <td>Red Rock Dely</td>\n",
       "    </tr>\n",
       "    <tr>\n",
       "      <th>112</th>\n",
       "      <td>Smith Crinkle Cut   Bolognese 150g</td>\n",
       "      <td>Smith</td>\n",
       "      <td>Smiths</td>\n",
       "    </tr>\n",
       "    <tr>\n",
       "      <th>113</th>\n",
       "      <td>Doritos Salsa Mild  300g</td>\n",
       "      <td>Doritos</td>\n",
       "      <td>Doritos</td>\n",
       "    </tr>\n",
       "  </tbody>\n",
       "</table>\n",
       "</div>"
      ],
      "text/plain": [
       "                                    PROD_NAME         FIRST_WORD  \\\n",
       "0      Natural Chip        Compny SeaSalt175g            Natural   \n",
       "1                    CCs Nacho Cheese    175g                CCs   \n",
       "2      Smiths Crinkle Cut  Chips Chicken 170g             Smiths   \n",
       "3      Smiths Chip Thinly  S/Cream&Onion 175g             Smiths   \n",
       "4    Kettle Tortilla ChpsHny&Jlpno Chili 150g             Kettle   \n",
       "5    Old El Paso Salsa   Dip Tomato Mild 300g                Old   \n",
       "6    Smiths Crinkle Chips Salt & Vinegar 330g             Smiths   \n",
       "7       Grain Waves         Sweet Chilli 210g              Grain   \n",
       "8     Doritos Corn Chip Mexican Jalapeno 150g            Doritos   \n",
       "9       Grain Waves Sour    Cream&Chives 210G              Grain   \n",
       "10      Kettle Sensations   Siracha Lime 150g             Kettle   \n",
       "11                   Twisties Cheese     270g           Twisties   \n",
       "12           WW Crinkle Cut      Chicken 175g         Woolworths   \n",
       "13             Thins Chips Light&  Tangy 175g              Thins   \n",
       "14                          CCs Original 175g                CCs   \n",
       "15                          Burger Rings 220g             Burger   \n",
       "16     NCC Sour Cream &    Garden Chives 175g  Natural Chips Co.   \n",
       "17    Doritos Corn Chip Southern Chicken 150g            Doritos   \n",
       "18                   Cheezels Cheese Box 125g           Cheezels   \n",
       "19          Smiths Crinkle      Original 330g             Smiths   \n",
       "20     Infzns Crn Crnchers Tangy Gcamole 110g             Infzns   \n",
       "21       Kettle Sea Salt     And Vinegar 175g             Kettle   \n",
       "22      Smiths Chip Thinly  Cut Original 175g             Smiths   \n",
       "23                       Kettle Original 175g             Kettle   \n",
       "24       Red Rock Deli Thai  Chilli&Lime 150g                Red   \n",
       "25           Pringles Sthrn FriedChicken 134g           Pringles   \n",
       "26               Pringles Sweet&Spcy BBQ 134g           Pringles   \n",
       "27   Red Rock Deli SR    Salsa & Mzzrlla 150g                Red   \n",
       "28     Thins Chips         Originl saltd 175g              Thins   \n",
       "29    Red Rock Deli Sp    Salt & Truffle 150G                Red   \n",
       "30   Smiths Thinly       Swt Chli&S/Cream175G             Smiths   \n",
       "31                         Kettle Chilli 175g             Kettle   \n",
       "32                   Doritos Mexicana    170g            Doritos   \n",
       "33   Smiths Crinkle Cut  French OnionDip 150g             Smiths   \n",
       "34     Natural ChipCo      Hony Soy Chckn175g            Natural   \n",
       "35           Dorito Corn Chp     Supreme 380g             Dorito   \n",
       "36                       Twisties Chicken270g           Twisties   \n",
       "37     Smiths Thinly Cut   Roast Chicken 175g             Smiths   \n",
       "38      Smiths Crinkle Cut  Tomato Salsa 150g             Smiths   \n",
       "39     Kettle Mozzarella   Basil & Pesto 175g             Kettle   \n",
       "40   Infuzions Thai SweetChili PotatoMix 110g          Infuzions   \n",
       "41   Kettle Sensations   Camembert & Fig 150g             Kettle   \n",
       "42      Smith Crinkle Cut   Mac N Cheese 150g              Smith   \n",
       "43           Kettle Honey Soy    Chicken 175g             Kettle   \n",
       "44           Thins Chips Seasonedchicken 175g              Thins   \n",
       "45    Smiths Crinkle Cut  Salt & Vinegar 170g             Smiths   \n",
       "46    Infuzions BBQ Rib   Prawn Crackers 110g          Infuzions   \n",
       "47      GrnWves Plus Btroot & Chilli Jam 180g            GrnWves   \n",
       "48    Tyrrells Crisps     Lightly Salted 165g           Tyrrells   \n",
       "49    Kettle Sweet Chilli And Sour Cream 175g             Kettle   \n",
       "50            Doritos Salsa       Medium 300g            Doritos   \n",
       "51               Kettle 135g Swt Pot Sea Salt             Kettle   \n",
       "52             Pringles SourCream  Onion 134g           Pringles   \n",
       "53          Doritos Corn Chips  Original 170g            Doritos   \n",
       "54            Twisties Cheese     Burger 250g           Twisties   \n",
       "55   Old El Paso Salsa   Dip Chnky Tom Ht300g                Old   \n",
       "56   Cobs Popd Swt/Chlli &Sr/Cream Chips 110g               Cobs   \n",
       "57             Woolworths Mild     Salsa 300g         Woolworths   \n",
       "58    Natural Chip Co     Tmato Hrb&Spce 175g            Natural   \n",
       "59    Smiths Crinkle Cut  Chips Original 170g             Smiths   \n",
       "60             Cobs Popd Sea Salt  Chips 110g               Cobs   \n",
       "61    Smiths Crinkle Cut  Chips Chs&Onion170g             Smiths   \n",
       "62             French Fries Potato Chips 175g             French   \n",
       "63    Old El Paso Salsa   Dip Tomato Med 300g                Old   \n",
       "64    Doritos Corn Chips  Cheese Supreme 170g            Doritos   \n",
       "65            Pringles Original   Crisps 134g           Pringles   \n",
       "66           RRD Chilli&         Coconut 150g                RRD   \n",
       "67             WW Original Corn    Chips 200g         Woolworths   \n",
       "68       Thins Potato Chips  Hot & Spicy 175g              Thins   \n",
       "69     Cobs Popd Sour Crm  &Chives Chips 110g               Cobs   \n",
       "70     Smiths Crnkle Chip  Orgnl Big Bag 380g             Smiths   \n",
       "71      Doritos Corn Chips  Nacho Cheese 170g            Doritos   \n",
       "72         Kettle Sensations   BBQ&Maple 150g             Kettle   \n",
       "73          WW D/Style Chip     Sea Salt 200g         Woolworths   \n",
       "74        Pringles Chicken    Salt Crips 134g           Pringles   \n",
       "75             WW Original Stacked Chips 160g         Woolworths   \n",
       "76     Smiths Chip Thinly  CutSalt/Vinegr175g             Smiths   \n",
       "77                       Cheezels Cheese 330g           Cheezels   \n",
       "78            Tostitos Lightly    Salted 175g           Tostitos   \n",
       "79           Thins Chips Salt &  Vinegar 175g              Thins   \n",
       "80    Smiths Crinkle Cut  Chips Barbecue 170g             Smiths   \n",
       "81                         Cheetos Puffs 165g            Cheetos   \n",
       "82        RRD Sweet Chilli &  Sour Cream 165g                RRD   \n",
       "83          WW Crinkle Cut      Original 175g         Woolworths   \n",
       "84              Tostitos Splash Of  Lime 175g           Tostitos   \n",
       "85             Woolworths Medium   Salsa 300g         Woolworths   \n",
       "86    Kettle Tortilla ChpsBtroot&Ricotta 150g             Kettle   \n",
       "87                   CCs Tasty Cheese    175g                CCs   \n",
       "88             Woolworths Cheese   Rings 190g         Woolworths   \n",
       "89          Tostitos Smoked     Chipotle 175g           Tostitos   \n",
       "90                   Pringles Barbeque   134g           Pringles   \n",
       "91        WW Supreme Cheese   Corn Chips 200g         Woolworths   \n",
       "92           Pringles Mystery    Flavour 134g           Pringles   \n",
       "93     Tyrrells Crisps     Ched & Chives 165g           Tyrrells   \n",
       "94       Snbts Whlgrn Crisps Cheddr&Mstrd 90g              Snbts   \n",
       "95             Cheetos Chs & Bacon Balls 190g            Cheetos   \n",
       "96                   Pringles Slt Vingar 134g           Pringles   \n",
       "97   Infuzions SourCream&Herbs Veg Strws 110g          Infuzions   \n",
       "98       Kettle Tortilla ChpsFeta&Garlic 150g             Kettle   \n",
       "99    Infuzions Mango     Chutny Papadums 70g          Infuzions   \n",
       "100      RRD Steak &         Chimuchurri 150g                RRD   \n",
       "101          RRD Honey Soy       Chicken 165g                RRD   \n",
       "102  Sunbites Whlegrn    Crisps Frch/Onin 90g           Sunbites   \n",
       "103                  RRD Salt & Vinegar  165g                RRD   \n",
       "104          Doritos Cheese      Supreme 330g            Doritos   \n",
       "105       Smiths Crinkle Cut  Snag&Sauce 150g             Smiths   \n",
       "106    WW Sour Cream &OnionStacked Chips 160g         Woolworths   \n",
       "107                  RRD Lime & Pepper   165g                RRD   \n",
       "108    Natural ChipCo Sea  Salt & Vinegr 175g            Natural   \n",
       "109     Red Rock Deli Chikn&Garlic Aioli 150g                Red   \n",
       "110       RRD SR Slow Rst     Pork Belly 150g                RRD   \n",
       "111                  RRD Pc Sea Salt     165g                RRD   \n",
       "112        Smith Crinkle Cut   Bolognese 150g              Smith   \n",
       "113                  Doritos Salsa Mild  300g            Doritos   \n",
       "\n",
       "                 BRAND  \n",
       "0    Natural Chips Co.  \n",
       "1                  CCs  \n",
       "2               Smiths  \n",
       "3               Smiths  \n",
       "4               Kettle  \n",
       "5          Old El Paso  \n",
       "6               Smiths  \n",
       "7          Grain Waves  \n",
       "8              Doritos  \n",
       "9          Grain Waves  \n",
       "10              Kettle  \n",
       "11            Twisties  \n",
       "12          Woolworths  \n",
       "13               Thins  \n",
       "14                 CCs  \n",
       "15       Burguer Rings  \n",
       "16   Natural Chips Co.  \n",
       "17             Doritos  \n",
       "18            Cheezels  \n",
       "19              Smiths  \n",
       "20           Infuzions  \n",
       "21              Kettle  \n",
       "22              Smiths  \n",
       "23              Kettle  \n",
       "24       Red Rock Dely  \n",
       "25            Pringles  \n",
       "26            Pringles  \n",
       "27       Red Rock Dely  \n",
       "28               Thins  \n",
       "29       Red Rock Dely  \n",
       "30              Smiths  \n",
       "31              Kettle  \n",
       "32             Doritos  \n",
       "33              Smiths  \n",
       "34   Natural Chips Co.  \n",
       "35             Doritos  \n",
       "36            Twisties  \n",
       "37              Smiths  \n",
       "38              Smiths  \n",
       "39              Kettle  \n",
       "40           Infuzions  \n",
       "41              Kettle  \n",
       "42              Smiths  \n",
       "43              Kettle  \n",
       "44               Thins  \n",
       "45              Smiths  \n",
       "46           Infuzions  \n",
       "47         Grain Waves  \n",
       "48             Tyrrels  \n",
       "49              Kettle  \n",
       "50             Doritos  \n",
       "51              Kettle  \n",
       "52            Pringles  \n",
       "53             Doritos  \n",
       "54            Twisties  \n",
       "55         Old El Paso  \n",
       "56                Cobs  \n",
       "57          Woolworths  \n",
       "58   Natural Chips Co.  \n",
       "59              Smiths  \n",
       "60                Cobs  \n",
       "61              Smiths  \n",
       "62        French Fries  \n",
       "63         Old El Paso  \n",
       "64             Doritos  \n",
       "65            Pringles  \n",
       "66       Red Rock Dely  \n",
       "67          Woolworths  \n",
       "68               Thins  \n",
       "69                Cobs  \n",
       "70              Smiths  \n",
       "71             Doritos  \n",
       "72              Kettle  \n",
       "73          Woolworths  \n",
       "74            Pringles  \n",
       "75          Woolworths  \n",
       "76              Smiths  \n",
       "77            Cheezels  \n",
       "78            Tostitos  \n",
       "79               Thins  \n",
       "80              Smiths  \n",
       "81             Cheetos  \n",
       "82       Red Rock Dely  \n",
       "83          Woolworths  \n",
       "84            Tostitos  \n",
       "85          Woolworths  \n",
       "86              Kettle  \n",
       "87                 CCs  \n",
       "88          Woolworths  \n",
       "89            Tostitos  \n",
       "90            Pringles  \n",
       "91          Woolworths  \n",
       "92            Pringles  \n",
       "93             Tyrrels  \n",
       "94            Sunbites  \n",
       "95             Cheetos  \n",
       "96            Pringles  \n",
       "97           Infuzions  \n",
       "98              Kettle  \n",
       "99           Infuzions  \n",
       "100      Red Rock Dely  \n",
       "101      Red Rock Dely  \n",
       "102           Sunbites  \n",
       "103      Red Rock Dely  \n",
       "104            Doritos  \n",
       "105             Smiths  \n",
       "106         Woolworths  \n",
       "107      Red Rock Dely  \n",
       "108  Natural Chips Co.  \n",
       "109      Red Rock Dely  \n",
       "110      Red Rock Dely  \n",
       "111      Red Rock Dely  \n",
       "112             Smiths  \n",
       "113            Doritos  "
      ]
     },
     "execution_count": 50,
     "metadata": {},
     "output_type": "execute_result"
    }
   ],
   "source": [
    "pd.set_option('display.max_rows', 114) \n",
    "products"
   ]
  },
  {
   "cell_type": "code",
   "execution_count": 51,
   "metadata": {},
   "outputs": [],
   "source": [
    "transaction=transaction.merge(products[['BRAND','PROD_NAME']],\n",
    "                  how='left',\n",
    "                  left_on='PROD_NAME',\n",
    "                  right_on='PROD_NAME')"
   ]
  },
  {
   "cell_type": "code",
   "execution_count": 52,
   "metadata": {},
   "outputs": [
    {
     "name": "stdout",
     "output_type": "stream",
     "text": [
      "<class 'pandas.core.frame.DataFrame'>\n",
      "Int64Index: 264836 entries, 0 to 264835\n",
      "Data columns (total 11 columns):\n",
      " #   Column          Non-Null Count   Dtype         \n",
      "---  ------          --------------   -----         \n",
      " 0   DATE            264836 non-null  datetime64[ns]\n",
      " 1   STORE_NBR       264836 non-null  int64         \n",
      " 2   LYLTY_CARD_NBR  264836 non-null  int64         \n",
      " 3   TXN_ID          264836 non-null  int64         \n",
      " 4   PROD_NBR        264836 non-null  int64         \n",
      " 5   PROD_NAME       264836 non-null  object        \n",
      " 6   PROD_QTY        264836 non-null  int64         \n",
      " 7   TOT_SALES       264836 non-null  float64       \n",
      " 8   PROD_TYPE       264836 non-null  object        \n",
      " 9   PROD_SIZE       264836 non-null  int32         \n",
      " 10  BRAND           264836 non-null  object        \n",
      "dtypes: datetime64[ns](1), float64(1), int32(1), int64(5), object(3)\n",
      "memory usage: 23.2+ MB\n"
     ]
    }
   ],
   "source": [
    "transaction.info()"
   ]
  },
  {
   "cell_type": "code",
   "execution_count": null,
   "metadata": {},
   "outputs": [],
   "source": []
  },
  {
   "cell_type": "markdown",
   "metadata": {},
   "source": [
    "### Describing numeric features and looking for outliers.\n",
    "For a first approach I use Pandas _describe()_ function."
   ]
  },
  {
   "cell_type": "code",
   "execution_count": 53,
   "metadata": {},
   "outputs": [
    {
     "data": {
      "text/html": [
       "<div>\n",
       "<style scoped>\n",
       "    .dataframe tbody tr th:only-of-type {\n",
       "        vertical-align: middle;\n",
       "    }\n",
       "\n",
       "    .dataframe tbody tr th {\n",
       "        vertical-align: top;\n",
       "    }\n",
       "\n",
       "    .dataframe thead th {\n",
       "        text-align: right;\n",
       "    }\n",
       "</style>\n",
       "<table border=\"1\" class=\"dataframe\">\n",
       "  <thead>\n",
       "    <tr style=\"text-align: right;\">\n",
       "      <th></th>\n",
       "      <th>STORE_NBR</th>\n",
       "      <th>LYLTY_CARD_NBR</th>\n",
       "      <th>TXN_ID</th>\n",
       "      <th>PROD_NBR</th>\n",
       "      <th>PROD_QTY</th>\n",
       "      <th>TOT_SALES</th>\n",
       "      <th>PROD_SIZE</th>\n",
       "    </tr>\n",
       "  </thead>\n",
       "  <tbody>\n",
       "    <tr>\n",
       "      <th>count</th>\n",
       "      <td>264836.00000</td>\n",
       "      <td>2.648360e+05</td>\n",
       "      <td>2.648360e+05</td>\n",
       "      <td>264836.000000</td>\n",
       "      <td>264836.000000</td>\n",
       "      <td>264836.000000</td>\n",
       "      <td>264836.000000</td>\n",
       "    </tr>\n",
       "    <tr>\n",
       "      <th>mean</th>\n",
       "      <td>135.08011</td>\n",
       "      <td>1.355495e+05</td>\n",
       "      <td>1.351583e+05</td>\n",
       "      <td>56.583157</td>\n",
       "      <td>1.907309</td>\n",
       "      <td>7.304200</td>\n",
       "      <td>182.427004</td>\n",
       "    </tr>\n",
       "    <tr>\n",
       "      <th>std</th>\n",
       "      <td>76.78418</td>\n",
       "      <td>8.057998e+04</td>\n",
       "      <td>7.813303e+04</td>\n",
       "      <td>32.826638</td>\n",
       "      <td>0.643654</td>\n",
       "      <td>3.083226</td>\n",
       "      <td>64.327196</td>\n",
       "    </tr>\n",
       "    <tr>\n",
       "      <th>min</th>\n",
       "      <td>1.00000</td>\n",
       "      <td>1.000000e+03</td>\n",
       "      <td>1.000000e+00</td>\n",
       "      <td>1.000000</td>\n",
       "      <td>1.000000</td>\n",
       "      <td>1.500000</td>\n",
       "      <td>70.000000</td>\n",
       "    </tr>\n",
       "    <tr>\n",
       "      <th>25%</th>\n",
       "      <td>70.00000</td>\n",
       "      <td>7.002100e+04</td>\n",
       "      <td>6.760150e+04</td>\n",
       "      <td>28.000000</td>\n",
       "      <td>2.000000</td>\n",
       "      <td>5.400000</td>\n",
       "      <td>150.000000</td>\n",
       "    </tr>\n",
       "    <tr>\n",
       "      <th>50%</th>\n",
       "      <td>130.00000</td>\n",
       "      <td>1.303575e+05</td>\n",
       "      <td>1.351375e+05</td>\n",
       "      <td>56.000000</td>\n",
       "      <td>2.000000</td>\n",
       "      <td>7.400000</td>\n",
       "      <td>170.000000</td>\n",
       "    </tr>\n",
       "    <tr>\n",
       "      <th>75%</th>\n",
       "      <td>203.00000</td>\n",
       "      <td>2.030942e+05</td>\n",
       "      <td>2.027012e+05</td>\n",
       "      <td>85.000000</td>\n",
       "      <td>2.000000</td>\n",
       "      <td>9.200000</td>\n",
       "      <td>175.000000</td>\n",
       "    </tr>\n",
       "    <tr>\n",
       "      <th>max</th>\n",
       "      <td>272.00000</td>\n",
       "      <td>2.373711e+06</td>\n",
       "      <td>2.415841e+06</td>\n",
       "      <td>114.000000</td>\n",
       "      <td>200.000000</td>\n",
       "      <td>650.000000</td>\n",
       "      <td>380.000000</td>\n",
       "    </tr>\n",
       "  </tbody>\n",
       "</table>\n",
       "</div>"
      ],
      "text/plain": [
       "          STORE_NBR  LYLTY_CARD_NBR        TXN_ID       PROD_NBR  \\\n",
       "count  264836.00000    2.648360e+05  2.648360e+05  264836.000000   \n",
       "mean      135.08011    1.355495e+05  1.351583e+05      56.583157   \n",
       "std        76.78418    8.057998e+04  7.813303e+04      32.826638   \n",
       "min         1.00000    1.000000e+03  1.000000e+00       1.000000   \n",
       "25%        70.00000    7.002100e+04  6.760150e+04      28.000000   \n",
       "50%       130.00000    1.303575e+05  1.351375e+05      56.000000   \n",
       "75%       203.00000    2.030942e+05  2.027012e+05      85.000000   \n",
       "max       272.00000    2.373711e+06  2.415841e+06     114.000000   \n",
       "\n",
       "            PROD_QTY      TOT_SALES      PROD_SIZE  \n",
       "count  264836.000000  264836.000000  264836.000000  \n",
       "mean        1.907309       7.304200     182.427004  \n",
       "std         0.643654       3.083226      64.327196  \n",
       "min         1.000000       1.500000      70.000000  \n",
       "25%         2.000000       5.400000     150.000000  \n",
       "50%         2.000000       7.400000     170.000000  \n",
       "75%         2.000000       9.200000     175.000000  \n",
       "max       200.000000     650.000000     380.000000  "
      ]
     },
     "execution_count": 53,
     "metadata": {},
     "output_type": "execute_result"
    }
   ],
   "source": [
    "transaction.describe()"
   ]
  },
  {
   "cell_type": "markdown",
   "metadata": {},
   "source": [
    "On PROD_QTY and TOT_SALES there are two strange values at maximun. lets check it."
   ]
  },
  {
   "cell_type": "code",
   "execution_count": 54,
   "metadata": {},
   "outputs": [
    {
     "name": "stdout",
     "output_type": "stream",
     "text": [
      "lower whisker:  -0.29999999999999805\n",
      "upper whisker:  14.899999999999999\n"
     ]
    }
   ],
   "source": [
    "# Outliers for TOT SALES\n",
    "IQR=transaction.TOT_SALES.quantile(0.75)-transaction.TOT_SALES.quantile(0.25)\n",
    "print('lower whisker: ',transaction.TOT_SALES.quantile(0.25)-IQR*1.5)\n",
    "print('upper whisker: ', transaction.TOT_SALES.quantile(0.75)+IQR*1.5)"
   ]
  },
  {
   "cell_type": "code",
   "execution_count": 55,
   "metadata": {},
   "outputs": [
    {
     "data": {
      "text/plain": [
       "578"
      ]
     },
     "execution_count": 55,
     "metadata": {},
     "output_type": "execute_result"
    }
   ],
   "source": [
    "transaction[transaction.TOT_SALES>14.89].shape[0]"
   ]
  },
  {
   "cell_type": "markdown",
   "metadata": {},
   "source": [
    "There are 578 transactions that can be defined as outliers, but I will focus on maximun value."
   ]
  },
  {
   "cell_type": "code",
   "execution_count": 56,
   "metadata": {},
   "outputs": [
    {
     "data": {
      "text/html": [
       "<div>\n",
       "<style scoped>\n",
       "    .dataframe tbody tr th:only-of-type {\n",
       "        vertical-align: middle;\n",
       "    }\n",
       "\n",
       "    .dataframe tbody tr th {\n",
       "        vertical-align: top;\n",
       "    }\n",
       "\n",
       "    .dataframe thead th {\n",
       "        text-align: right;\n",
       "    }\n",
       "</style>\n",
       "<table border=\"1\" class=\"dataframe\">\n",
       "  <thead>\n",
       "    <tr style=\"text-align: right;\">\n",
       "      <th></th>\n",
       "      <th>DATE</th>\n",
       "      <th>STORE_NBR</th>\n",
       "      <th>LYLTY_CARD_NBR</th>\n",
       "      <th>TXN_ID</th>\n",
       "      <th>PROD_NBR</th>\n",
       "      <th>PROD_NAME</th>\n",
       "      <th>PROD_QTY</th>\n",
       "      <th>TOT_SALES</th>\n",
       "      <th>PROD_TYPE</th>\n",
       "      <th>PROD_SIZE</th>\n",
       "      <th>BRAND</th>\n",
       "    </tr>\n",
       "  </thead>\n",
       "  <tbody>\n",
       "    <tr>\n",
       "      <th>5179</th>\n",
       "      <td>2018-08-15</td>\n",
       "      <td>94</td>\n",
       "      <td>94148</td>\n",
       "      <td>93390</td>\n",
       "      <td>14</td>\n",
       "      <td>Smiths Crnkle Chip  Orgnl Big Bag 380g</td>\n",
       "      <td>5</td>\n",
       "      <td>29.5</td>\n",
       "      <td>Chips</td>\n",
       "      <td>380</td>\n",
       "      <td>Smiths</td>\n",
       "    </tr>\n",
       "    <tr>\n",
       "      <th>55558</th>\n",
       "      <td>2019-05-14</td>\n",
       "      <td>190</td>\n",
       "      <td>190113</td>\n",
       "      <td>190914</td>\n",
       "      <td>14</td>\n",
       "      <td>Smiths Crnkle Chip  Orgnl Big Bag 380g</td>\n",
       "      <td>5</td>\n",
       "      <td>29.5</td>\n",
       "      <td>Chips</td>\n",
       "      <td>380</td>\n",
       "      <td>Smiths</td>\n",
       "    </tr>\n",
       "    <tr>\n",
       "      <th>69496</th>\n",
       "      <td>2018-08-15</td>\n",
       "      <td>49</td>\n",
       "      <td>49303</td>\n",
       "      <td>45789</td>\n",
       "      <td>14</td>\n",
       "      <td>Smiths Crnkle Chip  Orgnl Big Bag 380g</td>\n",
       "      <td>5</td>\n",
       "      <td>29.5</td>\n",
       "      <td>Chips</td>\n",
       "      <td>380</td>\n",
       "      <td>Smiths</td>\n",
       "    </tr>\n",
       "    <tr>\n",
       "      <th>69762</th>\n",
       "      <td>2018-08-19</td>\n",
       "      <td>226</td>\n",
       "      <td>226000</td>\n",
       "      <td>226201</td>\n",
       "      <td>4</td>\n",
       "      <td>Dorito Corn Chp     Supreme 380g</td>\n",
       "      <td>200</td>\n",
       "      <td>650.0</td>\n",
       "      <td>Chips</td>\n",
       "      <td>380</td>\n",
       "      <td>Doritos</td>\n",
       "    </tr>\n",
       "    <tr>\n",
       "      <th>69763</th>\n",
       "      <td>2019-05-20</td>\n",
       "      <td>226</td>\n",
       "      <td>226000</td>\n",
       "      <td>226210</td>\n",
       "      <td>4</td>\n",
       "      <td>Dorito Corn Chp     Supreme 380g</td>\n",
       "      <td>200</td>\n",
       "      <td>650.0</td>\n",
       "      <td>Chips</td>\n",
       "      <td>380</td>\n",
       "      <td>Doritos</td>\n",
       "    </tr>\n",
       "    <tr>\n",
       "      <th>117850</th>\n",
       "      <td>2019-05-19</td>\n",
       "      <td>194</td>\n",
       "      <td>194308</td>\n",
       "      <td>194516</td>\n",
       "      <td>14</td>\n",
       "      <td>Smiths Crnkle Chip  Orgnl Big Bag 380g</td>\n",
       "      <td>5</td>\n",
       "      <td>29.5</td>\n",
       "      <td>Chips</td>\n",
       "      <td>380</td>\n",
       "      <td>Smiths</td>\n",
       "    </tr>\n",
       "    <tr>\n",
       "      <th>150683</th>\n",
       "      <td>2019-05-20</td>\n",
       "      <td>118</td>\n",
       "      <td>118021</td>\n",
       "      <td>120799</td>\n",
       "      <td>14</td>\n",
       "      <td>Smiths Crnkle Chip  Orgnl Big Bag 380g</td>\n",
       "      <td>5</td>\n",
       "      <td>29.5</td>\n",
       "      <td>Chips</td>\n",
       "      <td>380</td>\n",
       "      <td>Smiths</td>\n",
       "    </tr>\n",
       "    <tr>\n",
       "      <th>171815</th>\n",
       "      <td>2018-08-17</td>\n",
       "      <td>24</td>\n",
       "      <td>24095</td>\n",
       "      <td>20797</td>\n",
       "      <td>14</td>\n",
       "      <td>Smiths Crnkle Chip  Orgnl Big Bag 380g</td>\n",
       "      <td>5</td>\n",
       "      <td>29.5</td>\n",
       "      <td>Chips</td>\n",
       "      <td>380</td>\n",
       "      <td>Smiths</td>\n",
       "    </tr>\n",
       "    <tr>\n",
       "      <th>184969</th>\n",
       "      <td>2019-05-20</td>\n",
       "      <td>44</td>\n",
       "      <td>44350</td>\n",
       "      <td>40394</td>\n",
       "      <td>14</td>\n",
       "      <td>Smiths Crnkle Chip  Orgnl Big Bag 380g</td>\n",
       "      <td>5</td>\n",
       "      <td>29.5</td>\n",
       "      <td>Chips</td>\n",
       "      <td>380</td>\n",
       "      <td>Smiths</td>\n",
       "    </tr>\n",
       "  </tbody>\n",
       "</table>\n",
       "</div>"
      ],
      "text/plain": [
       "             DATE  STORE_NBR  LYLTY_CARD_NBR  TXN_ID  PROD_NBR  \\\n",
       "5179   2018-08-15         94           94148   93390        14   \n",
       "55558  2019-05-14        190          190113  190914        14   \n",
       "69496  2018-08-15         49           49303   45789        14   \n",
       "69762  2018-08-19        226          226000  226201         4   \n",
       "69763  2019-05-20        226          226000  226210         4   \n",
       "117850 2019-05-19        194          194308  194516        14   \n",
       "150683 2019-05-20        118          118021  120799        14   \n",
       "171815 2018-08-17         24           24095   20797        14   \n",
       "184969 2019-05-20         44           44350   40394        14   \n",
       "\n",
       "                                     PROD_NAME  PROD_QTY  TOT_SALES PROD_TYPE  \\\n",
       "5179    Smiths Crnkle Chip  Orgnl Big Bag 380g         5       29.5     Chips   \n",
       "55558   Smiths Crnkle Chip  Orgnl Big Bag 380g         5       29.5     Chips   \n",
       "69496   Smiths Crnkle Chip  Orgnl Big Bag 380g         5       29.5     Chips   \n",
       "69762         Dorito Corn Chp     Supreme 380g       200      650.0     Chips   \n",
       "69763         Dorito Corn Chp     Supreme 380g       200      650.0     Chips   \n",
       "117850  Smiths Crnkle Chip  Orgnl Big Bag 380g         5       29.5     Chips   \n",
       "150683  Smiths Crnkle Chip  Orgnl Big Bag 380g         5       29.5     Chips   \n",
       "171815  Smiths Crnkle Chip  Orgnl Big Bag 380g         5       29.5     Chips   \n",
       "184969  Smiths Crnkle Chip  Orgnl Big Bag 380g         5       29.5     Chips   \n",
       "\n",
       "        PROD_SIZE    BRAND  \n",
       "5179          380   Smiths  \n",
       "55558         380   Smiths  \n",
       "69496         380   Smiths  \n",
       "69762         380  Doritos  \n",
       "69763         380  Doritos  \n",
       "117850        380   Smiths  \n",
       "150683        380   Smiths  \n",
       "171815        380   Smiths  \n",
       "184969        380   Smiths  "
      ]
     },
     "execution_count": 56,
     "metadata": {},
     "output_type": "execute_result"
    }
   ],
   "source": [
    "transaction[transaction.TOT_SALES>29]"
   ]
  },
  {
   "cell_type": "code",
   "execution_count": 57,
   "metadata": {},
   "outputs": [
    {
     "data": {
      "text/html": [
       "<div>\n",
       "<style scoped>\n",
       "    .dataframe tbody tr th:only-of-type {\n",
       "        vertical-align: middle;\n",
       "    }\n",
       "\n",
       "    .dataframe tbody tr th {\n",
       "        vertical-align: top;\n",
       "    }\n",
       "\n",
       "    .dataframe thead th {\n",
       "        text-align: right;\n",
       "    }\n",
       "</style>\n",
       "<table border=\"1\" class=\"dataframe\">\n",
       "  <thead>\n",
       "    <tr style=\"text-align: right;\">\n",
       "      <th></th>\n",
       "      <th>DATE</th>\n",
       "      <th>STORE_NBR</th>\n",
       "      <th>LYLTY_CARD_NBR</th>\n",
       "      <th>TXN_ID</th>\n",
       "      <th>PROD_NBR</th>\n",
       "      <th>PROD_NAME</th>\n",
       "      <th>PROD_QTY</th>\n",
       "      <th>TOT_SALES</th>\n",
       "      <th>PROD_TYPE</th>\n",
       "      <th>PROD_SIZE</th>\n",
       "      <th>BRAND</th>\n",
       "    </tr>\n",
       "  </thead>\n",
       "  <tbody>\n",
       "    <tr>\n",
       "      <th>69762</th>\n",
       "      <td>2018-08-19</td>\n",
       "      <td>226</td>\n",
       "      <td>226000</td>\n",
       "      <td>226201</td>\n",
       "      <td>4</td>\n",
       "      <td>Dorito Corn Chp     Supreme 380g</td>\n",
       "      <td>200</td>\n",
       "      <td>650.0</td>\n",
       "      <td>Chips</td>\n",
       "      <td>380</td>\n",
       "      <td>Doritos</td>\n",
       "    </tr>\n",
       "    <tr>\n",
       "      <th>69763</th>\n",
       "      <td>2019-05-20</td>\n",
       "      <td>226</td>\n",
       "      <td>226000</td>\n",
       "      <td>226210</td>\n",
       "      <td>4</td>\n",
       "      <td>Dorito Corn Chp     Supreme 380g</td>\n",
       "      <td>200</td>\n",
       "      <td>650.0</td>\n",
       "      <td>Chips</td>\n",
       "      <td>380</td>\n",
       "      <td>Doritos</td>\n",
       "    </tr>\n",
       "  </tbody>\n",
       "</table>\n",
       "</div>"
      ],
      "text/plain": [
       "            DATE  STORE_NBR  LYLTY_CARD_NBR  TXN_ID  PROD_NBR  \\\n",
       "69762 2018-08-19        226          226000  226201         4   \n",
       "69763 2019-05-20        226          226000  226210         4   \n",
       "\n",
       "                              PROD_NAME  PROD_QTY  TOT_SALES PROD_TYPE  \\\n",
       "69762  Dorito Corn Chp     Supreme 380g       200      650.0     Chips   \n",
       "69763  Dorito Corn Chp     Supreme 380g       200      650.0     Chips   \n",
       "\n",
       "       PROD_SIZE    BRAND  \n",
       "69762        380  Doritos  \n",
       "69763        380  Doritos  "
      ]
     },
     "execution_count": 57,
     "metadata": {},
     "output_type": "execute_result"
    }
   ],
   "source": [
    "transaction[transaction['LYLTY_CARD_NBR']==226000]"
   ]
  },
  {
   "cell_type": "markdown",
   "metadata": {},
   "source": [
    "That client only did two sales for same amount of chips. For our analysis it will be convenient to drop those rows."
   ]
  },
  {
   "cell_type": "code",
   "execution_count": 58,
   "metadata": {},
   "outputs": [],
   "source": [
    "# Drop maximun sales ever.\n",
    "transaction.drop(index=transaction[transaction.TOT_SALES>50].index,inplace=True)"
   ]
  },
  {
   "cell_type": "code",
   "execution_count": 59,
   "metadata": {},
   "outputs": [
    {
     "data": {
      "image/png": "[encoded data removed]",
      "text/plain": [
       "<Figure size 432x288 with 1 Axes>"
      ]
     },
     "metadata": {
      "needs_background": "light"
     },
     "output_type": "display_data"
    }
   ],
   "source": [
    "plt.boxplot(transaction['TOT_SALES']);"
   ]
  },
  {
   "cell_type": "code",
   "execution_count": 60,
   "metadata": {},
   "outputs": [
    {
     "data": {
      "image/png": "[encoded data removed]",
      "text/plain": [
       "<Figure size 432x288 with 1 Axes>"
      ]
     },
     "metadata": {
      "needs_background": "light"
     },
     "output_type": "display_data"
    }
   ],
   "source": [
    "plt.boxplot(transaction['PROD_QTY']);"
   ]
  },
  {
   "cell_type": "markdown",
   "metadata": {},
   "source": [
    "## 1.3. Merging datasets."
   ]
  },
  {
   "cell_type": "code",
   "execution_count": 61,
   "metadata": {},
   "outputs": [],
   "source": [
    "transaction=transaction.merge(behavior,\n",
    "                              how='left',\n",
    "                              on='LYLTY_CARD_NBR'\n",
    "                             # left_on='LYLTY_CARD_NBR',\n",
    "                             # right_on='LYLTY_CARD_NBR',\n",
    "                                )\n"
   ]
  },
  {
   "cell_type": "code",
   "execution_count": 62,
   "metadata": {},
   "outputs": [],
   "source": [
    "transaction=transaction.reindex(columns=['DATE','STORE_NBR','LYLTY_CARD_NBR', 'LIFESTAGE', 'PREMIUM_CUSTOMER', 'FAMILY_UNIT',         \n",
    "                     'TXN_ID','PROD_NBR','PROD_NAME','PROD_TYPE','PROD_SIZE', 'BRAND','PROD_QTY', 'TOT_SALES']);"
   ]
  },
  {
   "cell_type": "code",
   "execution_count": 63,
   "metadata": {},
   "outputs": [
    {
     "name": "stdout",
     "output_type": "stream",
     "text": [
      "<class 'pandas.core.frame.DataFrame'>\n",
      "Int64Index: 264834 entries, 0 to 264833\n",
      "Data columns (total 14 columns):\n",
      " #   Column            Non-Null Count   Dtype         \n",
      "---  ------            --------------   -----         \n",
      " 0   DATE              264834 non-null  datetime64[ns]\n",
      " 1   STORE_NBR         264834 non-null  int64         \n",
      " 2   LYLTY_CARD_NBR    264834 non-null  int64         \n",
      " 3   LIFESTAGE         264834 non-null  category      \n",
      " 4   PREMIUM_CUSTOMER  264834 non-null  category      \n",
      " 5   FAMILY_UNIT       264834 non-null  category      \n",
      " 6   TXN_ID            264834 non-null  int64         \n",
      " 7   PROD_NBR          264834 non-null  int64         \n",
      " 8   PROD_NAME         264834 non-null  object        \n",
      " 9   PROD_TYPE         264834 non-null  object        \n",
      " 10  PROD_SIZE         264834 non-null  int32         \n",
      " 11  BRAND             264834 non-null  object        \n",
      " 12  PROD_QTY          264834 non-null  int64         \n",
      " 13  TOT_SALES         264834 non-null  float64       \n",
      "dtypes: category(3), datetime64[ns](1), float64(1), int32(1), int64(5), object(3)\n",
      "memory usage: 24.0+ MB\n"
     ]
    }
   ],
   "source": [
    "transaction.info()"
   ]
  },
  {
   "cell_type": "markdown",
   "metadata": {},
   "source": [
    "# 2. Exploratory data analysis.\n",
    "## 2.1. Analyzing sales.\n"
   ]
  },
  {
   "cell_type": "code",
   "execution_count": 64,
   "metadata": {},
   "outputs": [
    {
     "name": "stdout",
     "output_type": "stream",
     "text": [
      "Total_Sales  : 1933115.0\n",
      "Total_transactions  : 264834\n",
      "Transactions_per_day  : 727.6\n",
      "Sales_per_day  : 5310.8\n",
      "Avg_sales_per_transaction  : 7.3\n",
      "Total_products  : 504724\n",
      "Avg_product_prize  : 3.8\n"
     ]
    }
   ],
   "source": [
    "# Total sales.\n",
    "summary={'Total_Sales':round(transaction.TOT_SALES.sum(),1),\n",
    "         'Total_transactions':transaction.TXN_ID.count(),\n",
    "         'Transactions_per_day':round(transaction.TXN_ID.count()/364,1),\n",
    "         'Sales_per_day':round(transaction.TOT_SALES.sum()/364,1),\n",
    "         'Avg_sales_per_transaction':round(transaction.TOT_SALES.sum()/transaction.TXN_ID.count(),1),\n",
    "         'Total_products':transaction.PROD_QTY.sum(),\n",
    "         'Avg_product_prize':round(transaction.TOT_SALES.sum()/transaction.PROD_QTY.sum(),1)}\n",
    "\n",
    "for x,y in summary.items():\n",
    "    print(x,' :',y)\n"
   ]
  },
  {
   "cell_type": "code",
   "execution_count": 65,
   "metadata": {},
   "outputs": [
    {
     "data": {
      "text/plain": [
       "count    78641.000000\n",
       "mean        24.581516\n",
       "std         16.945435\n",
       "min          1.500000\n",
       "25%         10.700000\n",
       "50%         21.100000\n",
       "75%         34.800000\n",
       "max        140.200000\n",
       "Name: TOT_SALES, dtype: float64"
      ]
     },
     "execution_count": 65,
     "metadata": {},
     "output_type": "execute_result"
    }
   ],
   "source": [
    "# Total Sales per Store and day.\n",
    "transaction.groupby(['DATE','STORE_NBR'])['TOT_SALES'].sum().describe()"
   ]
  },
  {
   "cell_type": "code",
   "execution_count": 66,
   "metadata": {},
   "outputs": [
    {
     "data": {
      "text/html": [
       "<div>\n",
       "<style scoped>\n",
       "    .dataframe tbody tr th:only-of-type {\n",
       "        vertical-align: middle;\n",
       "    }\n",
       "\n",
       "    .dataframe tbody tr th {\n",
       "        vertical-align: top;\n",
       "    }\n",
       "\n",
       "    .dataframe thead th {\n",
       "        text-align: right;\n",
       "    }\n",
       "</style>\n",
       "<table border=\"1\" class=\"dataframe\">\n",
       "  <thead>\n",
       "    <tr style=\"text-align: right;\">\n",
       "      <th></th>\n",
       "      <th>TOT_SALES</th>\n",
       "      <th>TXN_ID</th>\n",
       "    </tr>\n",
       "  </thead>\n",
       "  <tbody>\n",
       "    <tr>\n",
       "      <th>count</th>\n",
       "      <td>364.000000</td>\n",
       "      <td>364.000000</td>\n",
       "    </tr>\n",
       "    <tr>\n",
       "      <th>mean</th>\n",
       "      <td>5310.755495</td>\n",
       "      <td>727.565934</td>\n",
       "    </tr>\n",
       "    <tr>\n",
       "      <th>std</th>\n",
       "      <td>327.353701</td>\n",
       "      <td>35.255049</td>\n",
       "    </tr>\n",
       "    <tr>\n",
       "      <th>min</th>\n",
       "      <td>4036.500000</td>\n",
       "      <td>648.000000</td>\n",
       "    </tr>\n",
       "    <tr>\n",
       "      <th>25%</th>\n",
       "      <td>5165.975000</td>\n",
       "      <td>706.750000</td>\n",
       "    </tr>\n",
       "    <tr>\n",
       "      <th>50%</th>\n",
       "      <td>5327.100000</td>\n",
       "      <td>724.000000</td>\n",
       "    </tr>\n",
       "    <tr>\n",
       "      <th>75%</th>\n",
       "      <td>5468.525000</td>\n",
       "      <td>744.250000</td>\n",
       "    </tr>\n",
       "    <tr>\n",
       "      <th>max</th>\n",
       "      <td>6923.000000</td>\n",
       "      <td>939.000000</td>\n",
       "    </tr>\n",
       "  </tbody>\n",
       "</table>\n",
       "</div>"
      ],
      "text/plain": [
       "         TOT_SALES      TXN_ID\n",
       "count   364.000000  364.000000\n",
       "mean   5310.755495  727.565934\n",
       "std     327.353701   35.255049\n",
       "min    4036.500000  648.000000\n",
       "25%    5165.975000  706.750000\n",
       "50%    5327.100000  724.000000\n",
       "75%    5468.525000  744.250000\n",
       "max    6923.000000  939.000000"
      ]
     },
     "execution_count": 66,
     "metadata": {},
     "output_type": "execute_result"
    }
   ],
   "source": [
    "# Total Sales and number of transacions per day.\n",
    "transaction.groupby('DATE')[['TOT_SALES','TXN_ID']].agg({'TOT_SALES':'sum',\n",
    "                                                         'TXN_ID':'count'}).describe()"
   ]
  },
  {
   "cell_type": "markdown",
   "metadata": {},
   "source": [
    "### 2.1.1. Sales across time."
   ]
  },
  {
   "cell_type": "code",
   "execution_count": 67,
   "metadata": {},
   "outputs": [
    {
     "data": {
      "image/png": "[encoded data removed]",
      "text/plain": [
       "<Figure size 1080x720 with 1 Axes>"
      ]
     },
     "metadata": {
      "needs_background": "light"
     },
     "output_type": "display_data"
    }
   ],
   "source": [
    "# Sales vs Time\n",
    "transaction['DATE'].value_counts().plot(figsize=(15,10));"
   ]
  },
  {
   "cell_type": "code",
   "execution_count": 68,
   "metadata": {},
   "outputs": [],
   "source": [
    "#transaction['YEAR']=transaction.DATE.dt.year\n",
    "#transaction['MONTH']=transaction.DATE.dt.month\n",
    "#transaction['DayOfMonth']=transaction.DATE.dt.day"
   ]
  },
  {
   "cell_type": "code",
   "execution_count": 69,
   "metadata": {},
   "outputs": [],
   "source": [
    "# Reshaping dataframe for heatmap printing\n",
    "sales_by_day=transaction.groupby('DATE')[['TOT_SALES']].sum().reset_index()\n",
    "sales_by_day['YEAR']=sales_by_day.DATE.dt.year\n",
    "sales_by_day['MONTH']=sales_by_day.DATE.dt.month\n",
    "sales_by_day['DayOfMonth']=sales_by_day.DATE.dt.day\n",
    "sales_by_day.set_index(['YEAR','MONTH'],inplace=True)\n",
    "sales_by_day.drop(columns='DATE',inplace=True)"
   ]
  },
  {
   "cell_type": "code",
   "execution_count": 70,
   "metadata": {},
   "outputs": [],
   "source": [
    "sales_by_day_HEATMAP=sales_by_day.pivot_table(index=['YEAR','MONTH'],\n",
    "                                              columns='DayOfMonth',\n",
    "                                              values='TOT_SALES').fillna(0)"
   ]
  },
  {
   "cell_type": "code",
   "execution_count": 71,
   "metadata": {},
   "outputs": [
    {
     "data": {
      "image/png": "[encoded data removed]",
      "text/plain": [
       "<Figure size 1080x576 with 2 Axes>"
      ]
     },
     "metadata": {
      "needs_background": "light"
     },
     "output_type": "display_data"
    }
   ],
   "source": [
    "# Heatmap SALES BY DAY\n",
    "\n",
    "# Plot\n",
    "plt.figure(figsize=(15,8))\n",
    "heatmap_01 =sns.heatmap(data=sales_by_day_HEATMAP,\n",
    "                        cmap='mako_r',\n",
    "                        square=True,\n",
    "                        linewidth=0.5, linecolor='w',\n",
    "                        vmin=3000,\n",
    "                        vmax=7000,\n",
    "                       # annot=True, fmt='f',\n",
    "                       )\n",
    "\n",
    "# Set title\n",
    "heatmap_01.set_title('Sales by day',pad=10);\n",
    "\n",
    "\n",
    "# Guardar imagen\n",
    "# plt.savefig('genero_year',dpi=200)\n",
    "plt.show()"
   ]
  },
  {
   "cell_type": "code",
   "execution_count": 72,
   "metadata": {},
   "outputs": [
    {
     "data": {
      "text/html": [
       "<div>\n",
       "<style scoped>\n",
       "    .dataframe tbody tr th:only-of-type {\n",
       "        vertical-align: middle;\n",
       "    }\n",
       "\n",
       "    .dataframe tbody tr th {\n",
       "        vertical-align: top;\n",
       "    }\n",
       "\n",
       "    .dataframe thead th {\n",
       "        text-align: right;\n",
       "    }\n",
       "</style>\n",
       "<table border=\"1\" class=\"dataframe\">\n",
       "  <thead>\n",
       "    <tr style=\"text-align: right;\">\n",
       "      <th></th>\n",
       "      <th>TOT_SALES</th>\n",
       "    </tr>\n",
       "    <tr>\n",
       "      <th>Day_of_week</th>\n",
       "      <th></th>\n",
       "    </tr>\n",
       "  </thead>\n",
       "  <tbody>\n",
       "    <tr>\n",
       "      <th>0</th>\n",
       "      <td>5275.306731</td>\n",
       "    </tr>\n",
       "    <tr>\n",
       "      <th>1</th>\n",
       "      <td>5204.692308</td>\n",
       "    </tr>\n",
       "    <tr>\n",
       "      <th>2</th>\n",
       "      <td>5343.776923</td>\n",
       "    </tr>\n",
       "    <tr>\n",
       "      <th>3</th>\n",
       "      <td>5241.647115</td>\n",
       "    </tr>\n",
       "    <tr>\n",
       "      <th>4</th>\n",
       "      <td>5375.409615</td>\n",
       "    </tr>\n",
       "    <tr>\n",
       "      <th>5</th>\n",
       "      <td>5300.242308</td>\n",
       "    </tr>\n",
       "    <tr>\n",
       "      <th>6</th>\n",
       "      <td>5434.213462</td>\n",
       "    </tr>\n",
       "  </tbody>\n",
       "</table>\n",
       "</div>"
      ],
      "text/plain": [
       "               TOT_SALES\n",
       "Day_of_week             \n",
       "0            5275.306731\n",
       "1            5204.692308\n",
       "2            5343.776923\n",
       "3            5241.647115\n",
       "4            5375.409615\n",
       "5            5300.242308\n",
       "6            5434.213462"
      ]
     },
     "execution_count": 72,
     "metadata": {},
     "output_type": "execute_result"
    }
   ],
   "source": [
    "transaction['Day_of_week']=transaction.DATE.dt.dayofweek\n",
    "transaction.groupby('Day_of_week')[['TOT_SALES']].agg(lambda x: sum(x)/52)"
   ]
  },
  {
   "cell_type": "markdown",
   "metadata": {},
   "source": [
    "As we can check on graphs, sales are very constant all across the year except:\n",
    "- From 17th december untill 24fh december sales were specially large. \n",
    "- There are two weeks 14-21 agust 2018 and 14-21 may 2019 with lower sales rate.\n",
    "\n",
    "Wednesdays, fridays and specially sundays are the week days with higer demand but in general the sales are quite stable along the week."
   ]
  },
  {
   "cell_type": "markdown",
   "metadata": {},
   "source": [
    "### 2.1.2. Sales by product."
   ]
  },
  {
   "cell_type": "code",
   "execution_count": 73,
   "metadata": {},
   "outputs": [
    {
     "data": {
      "text/html": [
       "<div>\n",
       "<style scoped>\n",
       "    .dataframe tbody tr th:only-of-type {\n",
       "        vertical-align: middle;\n",
       "    }\n",
       "\n",
       "    .dataframe tbody tr th {\n",
       "        vertical-align: top;\n",
       "    }\n",
       "\n",
       "    .dataframe thead th {\n",
       "        text-align: right;\n",
       "    }\n",
       "</style>\n",
       "<table border=\"1\" class=\"dataframe\">\n",
       "  <thead>\n",
       "    <tr style=\"text-align: right;\">\n",
       "      <th></th>\n",
       "      <th>TOT_SALES</th>\n",
       "    </tr>\n",
       "    <tr>\n",
       "      <th>PROD_NAME</th>\n",
       "      <th></th>\n",
       "    </tr>\n",
       "  </thead>\n",
       "  <tbody>\n",
       "    <tr>\n",
       "      <th>Dorito Corn Chp     Supreme 380g</th>\n",
       "      <td>39052.0</td>\n",
       "    </tr>\n",
       "    <tr>\n",
       "      <th>Smiths Crnkle Chip  Orgnl Big Bag 380g</th>\n",
       "      <td>36367.6</td>\n",
       "    </tr>\n",
       "    <tr>\n",
       "      <th>Smiths Crinkle Chips Salt &amp; Vinegar 330g</th>\n",
       "      <td>34804.2</td>\n",
       "    </tr>\n",
       "    <tr>\n",
       "      <th>Kettle Mozzarella   Basil &amp; Pesto 175g</th>\n",
       "      <td>34457.4</td>\n",
       "    </tr>\n",
       "    <tr>\n",
       "      <th>Smiths Crinkle      Original 330g</th>\n",
       "      <td>34302.6</td>\n",
       "    </tr>\n",
       "  </tbody>\n",
       "</table>\n",
       "</div>"
      ],
      "text/plain": [
       "                                          TOT_SALES\n",
       "PROD_NAME                                          \n",
       "Dorito Corn Chp     Supreme 380g            39052.0\n",
       "Smiths Crnkle Chip  Orgnl Big Bag 380g      36367.6\n",
       "Smiths Crinkle Chips Salt & Vinegar 330g    34804.2\n",
       "Kettle Mozzarella   Basil & Pesto 175g      34457.4\n",
       "Smiths Crinkle      Original 330g           34302.6"
      ]
     },
     "execution_count": 73,
     "metadata": {},
     "output_type": "execute_result"
    }
   ],
   "source": [
    "transaction.groupby('PROD_NAME')[['TOT_SALES']].sum().sort_values(by='TOT_SALES',ascending=False).head(5)"
   ]
  },
  {
   "cell_type": "code",
   "execution_count": 74,
   "metadata": {},
   "outputs": [
    {
     "data": {
      "text/html": [
       "<div>\n",
       "<style scoped>\n",
       "    .dataframe tbody tr th:only-of-type {\n",
       "        vertical-align: middle;\n",
       "    }\n",
       "\n",
       "    .dataframe tbody tr th {\n",
       "        vertical-align: top;\n",
       "    }\n",
       "\n",
       "    .dataframe thead th {\n",
       "        text-align: right;\n",
       "    }\n",
       "</style>\n",
       "<table border=\"1\" class=\"dataframe\">\n",
       "  <thead>\n",
       "    <tr style=\"text-align: right;\">\n",
       "      <th></th>\n",
       "      <th>TOT_SALES</th>\n",
       "    </tr>\n",
       "    <tr>\n",
       "      <th>PROD_NAME</th>\n",
       "      <th></th>\n",
       "    </tr>\n",
       "  </thead>\n",
       "  <tbody>\n",
       "    <tr>\n",
       "      <th>WW Crinkle Cut      Chicken 175g</th>\n",
       "      <td>4702.2</td>\n",
       "    </tr>\n",
       "    <tr>\n",
       "      <th>Sunbites Whlegrn    Crisps Frch/Onin 90g</th>\n",
       "      <td>4600.2</td>\n",
       "    </tr>\n",
       "    <tr>\n",
       "      <th>WW Crinkle Cut      Original 175g</th>\n",
       "      <td>4532.2</td>\n",
       "    </tr>\n",
       "    <tr>\n",
       "      <th>Woolworths Mild     Salsa 300g</th>\n",
       "      <td>4234.5</td>\n",
       "    </tr>\n",
       "    <tr>\n",
       "      <th>Woolworths Medium   Salsa 300g</th>\n",
       "      <td>4050.0</td>\n",
       "    </tr>\n",
       "  </tbody>\n",
       "</table>\n",
       "</div>"
      ],
      "text/plain": [
       "                                          TOT_SALES\n",
       "PROD_NAME                                          \n",
       "WW Crinkle Cut      Chicken 175g             4702.2\n",
       "Sunbites Whlegrn    Crisps Frch/Onin 90g     4600.2\n",
       "WW Crinkle Cut      Original 175g            4532.2\n",
       "Woolworths Mild     Salsa 300g               4234.5\n",
       "Woolworths Medium   Salsa 300g               4050.0"
      ]
     },
     "execution_count": 74,
     "metadata": {},
     "output_type": "execute_result"
    }
   ],
   "source": [
    "transaction.groupby('PROD_NAME')[['TOT_SALES']].sum().sort_values(by='TOT_SALES',ascending=False).tail(5)"
   ]
  },
  {
   "cell_type": "code",
   "execution_count": 75,
   "metadata": {},
   "outputs": [],
   "source": [
    "SALES_BY_BRAND=transaction.groupby('BRAND')[['TOT_SALES']].sum().sort_values(by='TOT_SALES',ascending=False)\n",
    "SALES_BY_TYPE=transaction.groupby('PROD_TYPE')[['TOT_SALES']].sum().sort_values(by='TOT_SALES',ascending=False)"
   ]
  },
  {
   "cell_type": "code",
   "execution_count": 76,
   "metadata": {},
   "outputs": [
    {
     "data": {
      "image/png": "[encoded data removed]",
      "text/plain": [
       "<Figure size 1080x576 with 1 Axes>"
      ]
     },
     "metadata": {},
     "output_type": "display_data"
    }
   ],
   "source": [
    "# Bar plot - Sales by brand\n",
    "sns.set_style('whitegrid')\n",
    "# 1. Fig y axes.\n",
    "fig, ax=plt.subplots(figsize=(15, 8))\n",
    "\n",
    "# 2. Plot\n",
    "SxB=sns.barplot(data=SALES_BY_BRAND.reset_index(),\n",
    "                  x='TOT_SALES',\n",
    "                  y='BRAND',\n",
    "                  ci=None,\n",
    "                  palette='mako',)\n",
    "\n",
    "# 3.Title \n",
    "SxB.set(title='Total sales by brand',\n",
    "          ylabel=None,\n",
    "          xlabel=None);\n",
    "\n",
    "# Anotaciones\n",
    "#for i in range(5):\n",
    "#    SxB.annotate(text=int(SALES_BY_BRAND.reset_index().iloc[i,1]),\n",
    "#                  xy=(SALES_BY_BRAND.reset_index().iloc[i,1]-30000,i+0.25),\n",
    "#                  xycoords='data',\n",
    "#                  color='w',\n",
    "#                  weight='bold',\n",
    "#                  fontstyle='oblique');\n",
    "\n",
    "\n"
   ]
  },
  {
   "cell_type": "code",
   "execution_count": 77,
   "metadata": {},
   "outputs": [
    {
     "data": {
      "image/png": "[encoded data removed]",
      "text/plain": [
       "<Figure size 864x216 with 1 Axes>"
      ]
     },
     "metadata": {},
     "output_type": "display_data"
    }
   ],
   "source": [
    "# Bar plot - Sales by type\n",
    "# 1. Fig y axes.\n",
    "fig, ax=plt.subplots(figsize=(12, 3))\n",
    "\n",
    "# 2. Plot\n",
    "SxB=sns.barplot(data=SALES_BY_TYPE.reset_index(),\n",
    "                  x='TOT_SALES',\n",
    "                  y='PROD_TYPE',\n",
    "                  ci=None,\n",
    "                  palette='mako',)\n",
    "\n",
    "# 3.Title \n",
    "SxB.set(title='Total sales by Type',\n",
    "          ylabel=None,\n",
    "          xlabel=None);\n"
   ]
  },
  {
   "cell_type": "markdown",
   "metadata": {},
   "source": [
    "Kettle is the most selled brand, followed by Doritos, Smith and pringles."
   ]
  },
  {
   "cell_type": "code",
   "execution_count": 78,
   "metadata": {},
   "outputs": [
    {
     "data": {
      "text/plain": [
       "TOT_SALES    53.444642\n",
       "dtype: float64"
      ]
     },
     "execution_count": 78,
     "metadata": {},
     "output_type": "execute_result"
    }
   ],
   "source": [
    "# Four most important brands sales percentage of total sales\n",
    "SALES_BY_BRAND.head(4).sum()/SALES_BY_BRAND.sum()*100"
   ]
  },
  {
   "cell_type": "markdown",
   "metadata": {},
   "source": [
    "### 2.1.3. Sales by customer.\n",
    "\n",
    "Now I want to analize the distribution of our clients and their impact on sales."
   ]
  },
  {
   "cell_type": "code",
   "execution_count": 79,
   "metadata": {},
   "outputs": [
    {
     "data": {
      "image/png": "[encoded data removed]",
      "text/plain": [
       "<Figure size 720x288 with 2 Axes>"
      ]
     },
     "metadata": {},
     "output_type": "display_data"
    }
   ],
   "source": [
    "# Total sales by family unit\n",
    "sales_by_family=round(transaction.pivot_table(values='TOT_SALES',\n",
    "                                        index='FAMILY_UNIT',\n",
    "                                        columns='PREMIUM_CUSTOMER',\n",
    "                                        aggfunc='sum',\n",
    "                                        margins=True).apply(lambda x:x/transaction.TOT_SALES.sum()*100),1)\n",
    "# Family unit distribution\n",
    "family_dist=round(pd.crosstab(index=behavior['FAMILY_UNIT'],\n",
    "                            columns=behavior['PREMIUM_CUSTOMER'],\n",
    "                              margins=True).apply(lambda r: r/len(behavior) *100,axis=1),1)                    \n",
    "\n",
    "# 1. Fig and axes.\n",
    "fig, (ax1,ax2) = plt.subplots(nrows=1, ncols=2, figsize=(10, 4),sharey=True)\n",
    "\n",
    "#2. Plot. \n",
    "# Ax1 family distribution plot\n",
    "ax1_plot=sns.heatmap(family_dist,\n",
    "              annot=True, fmt='.1f',  \n",
    "              cmap='mako_r', cbar=False,\n",
    "              vmax=60,\n",
    "              linewidth=0.5, linecolor='w',\n",
    "              ax=ax1)\n",
    "\n",
    "ax1.set_title('Family unit distribution',pad=10);\n",
    "\n",
    "# Ax2 sales by family distribution plot\n",
    "ax2_plot=sns.heatmap(sales_by_family,\n",
    "                  annot=True, fmt='.1f',  \n",
    "                  cmap='mako_r', cbar=False,\n",
    "                  vmax=60,\n",
    "                  linewidth=0.5, linecolor='w',\n",
    "                 ax=ax2)\n",
    "\n",
    "ax2.set_title('Tot Sales pct. by family unit',pad=10);\n"
   ]
  },
  {
   "cell_type": "markdown",
   "metadata": {},
   "source": [
    "Families which are a 29.6 % of ouer clients, makes 37.2 percent of our sales. On the other side, singles/couples use to buy less. But let dig a bit more on our segments."
   ]
  },
  {
   "cell_type": "code",
   "execution_count": 80,
   "metadata": {},
   "outputs": [],
   "source": [
    "# Customer distribution\n",
    "customer_dist=round(pd.crosstab(index=behavior['LIFESTAGE'],\n",
    "                                columns=behavior['PREMIUM_CUSTOMER'],\n",
    "                                margins=True).apply(lambda r: r/len(behavior) *100,axis=1),1)\n",
    "# Sales by customer\n",
    "sales_by_customer=round(transaction.pivot_table(values='TOT_SALES',\n",
    "                                        index='LIFESTAGE',\n",
    "                                        columns='PREMIUM_CUSTOMER',\n",
    "                                        aggfunc='sum',\n",
    "                                        margins=True).apply(lambda x:x/transaction.TOT_SALES.sum()*100),1)"
   ]
  },
  {
   "cell_type": "code",
   "execution_count": 97,
   "metadata": {},
   "outputs": [
    {
     "data": {
      "image/png": "[encoded data removed]",
      "text/plain": [
       "<Figure size 720x288 with 2 Axes>"
      ]
     },
     "metadata": {},
     "output_type": "display_data"
    }
   ],
   "source": [
    "\n",
    "# 1. Fig and axes.\n",
    "fig, (ax1,ax2) = plt.subplots(nrows=1, ncols=2, figsize=(10, 4),sharey=True)\n",
    "\n",
    "#2. Plot.\n",
    "customer=sns.heatmap(customer_dist,\n",
    "                  annot=True, fmt='.1f',  \n",
    "                  cmap='mako_r', cbar=False,\n",
    "                  vmax=60,\n",
    "                  linewidth=0.5, linecolor='w',\n",
    "                  ax=ax1\n",
    "                    )\n",
    "ax1.set_title('Customer distribution',pad=10)\n",
    "\n",
    "sales=sns.heatmap(sales_by_customer,\n",
    "                  annot=True, fmt='.1f',  \n",
    "                  cmap='mako_r', cbar=False,\n",
    "                  vmax=60,\n",
    "                  linewidth=0.5, linecolor='w',\n",
    "                 ax=ax2\n",
    "                 )\n",
    "ax2.set_title('Tot Sales pct. by customer',pad=10);\n",
    "\n",
    "plt.savefig('customers',dpi=200);\n"
   ]
  },
  {
   "cell_type": "markdown",
   "metadata": {},
   "source": [
    "Actually youg singles/couples and new families use to buy less tha expected. And young and older families use to make larger shops.\n",
    "\n",
    "Main segments are:\n",
    "- Mainstreams young singles/couples (8.2% tot_sales)\n",
    "- Budget older families (8.7% tot_sales)\n",
    "- Mainstreams retirees (8.1% tot_sales)"
   ]
  },
  {
   "cell_type": "code",
   "execution_count": 82,
   "metadata": {},
   "outputs": [],
   "source": [
    "# Average number of items \n",
    "a=transaction.groupby(['LIFESTAGE','PREMIUM_CUSTOMER','LYLTY_CARD_NBR'])[['PROD_QTY']].sum().groupby(\n",
    "    ['LIFESTAGE','PREMIUM_CUSTOMER'])[['PROD_QTY']].mean()\n"
   ]
  },
  {
   "cell_type": "code",
   "execution_count": 98,
   "metadata": {},
   "outputs": [
    {
     "data": {
      "image/png": "[encoded data removed]",
      "text/plain": [
       "<Figure size 1152x432 with 1 Axes>"
      ]
     },
     "metadata": {},
     "output_type": "display_data"
    }
   ],
   "source": [
    "\n",
    "# Bar plot - Avg product by segment\n",
    "# 1. Fig y axes.\n",
    "fig, ax=plt.subplots(figsize=(16, 6))\n",
    "\n",
    "# 2. Plot\n",
    "SxS=sns.barplot(data=a.reset_index(),\n",
    "                  y='PROD_QTY',\n",
    "                  x='LIFESTAGE',\n",
    "                  hue='PREMIUM_CUSTOMER',\n",
    "               #   ci=None,\n",
    "               )\n",
    "\n",
    "# 3.Title \n",
    "SxS.set(title='Average prod. quantity by custumer',\n",
    "          ylabel=None,\n",
    "          xlabel=None)\n",
    "ax.tick_params(axis='x',labelsize=9, rotation=30)\n",
    "\n",
    "\n",
    "plt.savefig('units_segment',dpi=200);\n"
   ]
  },
  {
   "cell_type": "code",
   "execution_count": null,
   "metadata": {},
   "outputs": [],
   "source": []
  },
  {
   "cell_type": "markdown",
   "metadata": {},
   "source": [
    "As expected young and older families use to buy more units per customer."
   ]
  },
  {
   "cell_type": "code",
   "execution_count": 96,
   "metadata": {},
   "outputs": [
    {
     "data": {
      "image/png": "[encoded data removed]",
      "text/plain": [
       "<Figure size 1152x432 with 1 Axes>"
      ]
     },
     "metadata": {},
     "output_type": "display_data"
    }
   ],
   "source": [
    "\n",
    "# Bar plot - Avg product by segment\n",
    "# 1. Fig y axes.\n",
    "fig, ax=plt.subplots(figsize=(16, 6))\n",
    "\n",
    "b=transaction.groupby(['LIFESTAGE','PREMIUM_CUSTOMER','LYLTY_CARD_NBR'])[['TOT_SALES','PROD_QTY']].sum().groupby(\n",
    "    ['LIFESTAGE','PREMIUM_CUSTOMER'])[['TOT_SALES','PROD_QTY']].mean()\n",
    "b['Unit_Price']=b.TOT_SALES/b.PROD_QTY\n",
    "# 2. Plot\n",
    "SxS=sns.barplot(data=b.reset_index(),\n",
    "                  y='Unit_Price',\n",
    "                  x='LIFESTAGE',\n",
    "                  hue='PREMIUM_CUSTOMER',\n",
    "               #   ci=None,\n",
    "               )\n",
    "\n",
    "# 3.Title \n",
    "SxS.set(title='Average unit price per  customer segment',\n",
    "          ylabel=None,\n",
    "          xlabel=None)\n",
    "ax.tick_params(axis='x',labelsize=9, rotation=30)\n",
    "\n",
    "plt.savefig('avg_price_segment',dpi=200);\n"
   ]
  },
  {
   "cell_type": "code",
   "execution_count": null,
   "metadata": {},
   "outputs": [],
   "source": []
  }
 ],
 "metadata": {
  "kernelspec": {
   "display_name": "Python 3",
   "language": "python",
   "name": "python3"
  },
  "language_info": {
   "codemirror_mode": {
    "name": "ipython",
    "version": 3
   },
   "file_extension": ".py",
   "mimetype": "text/x-python",
   "name": "python",
   "nbconvert_exporter": "python",
   "pygments_lexer": "ipython3",
   "version": "3.8.5"
  }
 },
 "nbformat": 4,
 "nbformat_minor": 4
}
